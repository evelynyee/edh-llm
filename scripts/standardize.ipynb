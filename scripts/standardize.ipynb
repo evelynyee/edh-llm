{
 "cells": [
  {
   "cell_type": "code",
   "execution_count": 12,
   "metadata": {},
   "outputs": [],
   "source": [
    "import os\n",
    "import ast\n",
    "from scrape_cardlists import DATA_PATH\n",
    "DECKS = os.path.join(DATA_PATH, \"decks\")\n",
    "def compile_power(directory):\n",
    "    for root, dirs, files in os.walk(directory):\n",
    "        folder_name = os.path.basename(root)  # Get the current folder name\n",
    "        #print(folder_name)\n",
    "        for file in files:\n",
    "            if file.endswith(\".txt\") and folder_name in ['gpt', 'manual_rand']:\n",
    "                file_path = os.path.join(root, file)\n",
    "                #print(file_path)\n",
    "                with open(file_path, 'r+', encoding='utf-8', errors='ignore') as f:\n",
    "                    lines = f.readlines()\n",
    "                    if lines:\n",
    "                        try:\n",
    "                            last_line = lines[-1]\n",
    "                            lines = lines[:64] + [last_line]\n",
    "                            f.seek(0)\n",
    "                            f.writelines(lines)\n",
    "                                \n",
    "                        except (ValueError, SyntaxError):\n",
    "                            print(f\"Error processing file: {file_path}\")\n",
    "                            continue"
   ]
  },
  {
   "cell_type": "code",
   "execution_count": 13,
   "metadata": {},
   "outputs": [],
   "source": [
    "compile_power(DECKS)"
   ]
  },
  {
   "cell_type": "code",
   "execution_count": null,
   "metadata": {},
   "outputs": [],
   "source": []
  }
 ],
 "metadata": {
  "language_info": {
   "name": "python"
  }
 },
 "nbformat": 4,
 "nbformat_minor": 2
}
