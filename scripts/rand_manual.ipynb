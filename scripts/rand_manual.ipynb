{
 "cells": [
  {
   "cell_type": "code",
   "execution_count": 1,
   "metadata": {},
   "outputs": [],
   "source": [
    "from power_calculator import calculate_power\n",
    "import os\n",
    "import pandas as pd\n",
    "import pickle\n",
    "from scrape_cardlists import DATA_PATH\n",
    "from tqdm import tqdm\n",
    "BASE_PATH = os.path.join(DATA_PATH, \"decks\", \"baseline.pkl\")\n",
    "BASE_PWR_PATH = os.path.join(DATA_PATH, \"decks\", \"baseline\")\n",
    "MANUAL_PATH = os.path.join(DATA_PATH, \"decks\", \"manual.pkl\")\n",
    "MANUAL_SAVE = os.path.join(DATA_PATH, \"decks\", \"manual_rand\")\n",
    "EDH_SAVE = os.path.join(DATA_PATH, \"decks\", \"edh\")"
   ]
  },
  {
   "cell_type": "code",
   "execution_count": 3,
   "metadata": {},
   "outputs": [],
   "source": [
    "def load_data(fp):\n",
    "    with open(fp, \"rb\") as f:\n",
    "        data = pickle.load(f)\n",
    "    return data"
   ]
  },
  {
   "cell_type": "code",
   "execution_count": 5,
   "metadata": {},
   "outputs": [
    {
     "data": {
      "text/html": [
       "<div>\n",
       "<style scoped>\n",
       "    .dataframe tbody tr th:only-of-type {\n",
       "        vertical-align: middle;\n",
       "    }\n",
       "\n",
       "    .dataframe tbody tr th {\n",
       "        vertical-align: top;\n",
       "    }\n",
       "\n",
       "    .dataframe thead th {\n",
       "        text-align: right;\n",
       "    }\n",
       "</style>\n",
       "<table border=\"1\" class=\"dataframe\">\n",
       "  <thead>\n",
       "    <tr style=\"text-align: right;\">\n",
       "      <th></th>\n",
       "      <th>Rishkar, Peema Renegade</th>\n",
       "      <th>Aurelia, the Warleader</th>\n",
       "      <th>Doran, the Siege Tower</th>\n",
       "      <th>Ezuri, Claw of Progress</th>\n",
       "      <th>Firesong and Sunspeaker</th>\n",
       "      <th>Jodah, Archmage Eternal</th>\n",
       "      <th>Karador, Ghost Chieftain</th>\n",
       "      <th>Wasitora, Nekoru Queen</th>\n",
       "      <th>Sharuum the Hegemon</th>\n",
       "      <th>Marneus Calgar</th>\n",
       "      <th>...</th>\n",
       "      <th>Killian, Ink Duelist</th>\n",
       "      <th>The Tenth Doctor</th>\n",
       "      <th>Rose Tyler</th>\n",
       "      <th>Ashad, the Lone Cyberman</th>\n",
       "      <th>The Fifth Doctor</th>\n",
       "      <th>The Fugitive Doctor</th>\n",
       "      <th>Jenny, Generated Anomaly</th>\n",
       "      <th>The Master, Multiplied</th>\n",
       "      <th>Tegwyll, Duke of Splendor</th>\n",
       "      <th>Obyra, Dreaming Duelist</th>\n",
       "    </tr>\n",
       "  </thead>\n",
       "  <tbody>\n",
       "    <tr>\n",
       "      <th>0</th>\n",
       "      <td>Yorvo, Lord of Garenbrig</td>\n",
       "      <td>Éomer, Marshal of Rohan</td>\n",
       "      <td>Yavimaya Wurm</td>\n",
       "      <td>Zegana, Utopian Speaker</td>\n",
       "      <td>Zada, Hedron Grinder</td>\n",
       "      <td>Zoetic Cavern</td>\n",
       "      <td>Zephyrim</td>\n",
       "      <td>Éomer of the Riddermark</td>\n",
       "      <td>Zombify</td>\n",
       "      <td>You're Confronted by Robbers</td>\n",
       "      <td>...</td>\n",
       "      <td>Zulaport Enforcer</td>\n",
       "      <td>Write into Being</td>\n",
       "      <td>Wingsteed Rider</td>\n",
       "      <td>Zaffai, Thunder Conductor</td>\n",
       "      <td>Zhalfirin Decoy</td>\n",
       "      <td>Zoetic Cavern</td>\n",
       "      <td>Winota, Joiner of Forces</td>\n",
       "      <td>Yuan Shao, the Indecisive</td>\n",
       "      <td>Zulaport Cutthroat</td>\n",
       "      <td>Zulaport Cutthroat</td>\n",
       "    </tr>\n",
       "    <tr>\n",
       "      <th>1</th>\n",
       "      <td>Young Wolf</td>\n",
       "      <td>Éowyn, Lady of Rohan</td>\n",
       "      <td>Woodlurker Mimic</td>\n",
       "      <td>Yorvo, Lord of Garenbrig</td>\n",
       "      <td>Zephyr Boots</td>\n",
       "      <td>Zephyrim</td>\n",
       "      <td>Writhing Necromass</td>\n",
       "      <td>Zurzoth, Chaos Rider</td>\n",
       "      <td>Young Necromancer</td>\n",
       "      <td>Zombie Infestation</td>\n",
       "      <td>...</td>\n",
       "      <td>Xiahou Dun, the One-Eyed</td>\n",
       "      <td>Zhulodok, Void Gorger</td>\n",
       "      <td>Youthful Valkyrie</td>\n",
       "      <td>Zephyr Singer</td>\n",
       "      <td>Zygon Infiltrator</td>\n",
       "      <td>Wrenn and Six</td>\n",
       "      <td>Yidaro, Wandering Monster</td>\n",
       "      <td>Xathrid Gorgon</td>\n",
       "      <td>Zulaport Chainmage</td>\n",
       "      <td>Zulaport Chainmage</td>\n",
       "    </tr>\n",
       "    <tr>\n",
       "      <th>2</th>\n",
       "      <td>Workhorse</td>\n",
       "      <td>Wojek Halberdiers</td>\n",
       "      <td>Xenic Poltergeist</td>\n",
       "      <td>Workshop Elders</td>\n",
       "      <td>Wizard's Lightning</td>\n",
       "      <td>Zahid, Djinn of the Lamp</td>\n",
       "      <td>Xander's Pact</td>\n",
       "      <td>Yawgmoth Demon</td>\n",
       "      <td>Zombie Mob</td>\n",
       "      <td>Xathrid Necromancer</td>\n",
       "      <td>...</td>\n",
       "      <td>Zombie Assassin</td>\n",
       "      <td>Wibbly-wobbly, Timey-wimey</td>\n",
       "      <td>Woolly Razorback</td>\n",
       "      <td>Zada, Hedron Grinder</td>\n",
       "      <td>Workshop Elders</td>\n",
       "      <td>Zirilan of the Claw</td>\n",
       "      <td>Wilfred Mott</td>\n",
       "      <td>Xiahou Dun, the One-Eyed</td>\n",
       "      <td>Zuran Orb</td>\n",
       "      <td>Zof Consumption // Zof Bloodbog</td>\n",
       "    </tr>\n",
       "    <tr>\n",
       "      <th>3</th>\n",
       "      <td>Woodripper</td>\n",
       "      <td>Ydwen Efreet</td>\n",
       "      <td>Wing Puncture</td>\n",
       "      <td>Wren's Run Hydra</td>\n",
       "      <td>Witchstalker Frenzy</td>\n",
       "      <td>Zombie Cutthroat</td>\n",
       "      <td>Yahenni's Expertise</td>\n",
       "      <td>Yavimaya Wurm</td>\n",
       "      <td>Zombie Apocalypse</td>\n",
       "      <td>Zeriam, Golden Wind</td>\n",
       "      <td>...</td>\n",
       "      <td>Zombie Boa</td>\n",
       "      <td>Wiretapping</td>\n",
       "      <td>Weapon Rack</td>\n",
       "      <td>Young Pyromancer</td>\n",
       "      <td>Yotian Frontliner</td>\n",
       "      <td>Wurmcalling</td>\n",
       "      <td>Wild Magic Surge</td>\n",
       "      <td>Zariel, Archduke of Avernus</td>\n",
       "      <td>Yawgmoth, Thran Physician</td>\n",
       "      <td>Zof Consumption // Zof Bloodbog</td>\n",
       "    </tr>\n",
       "    <tr>\n",
       "      <th>4</th>\n",
       "      <td>_____-o-saurus</td>\n",
       "      <td>Zalto, Fire Giant Duke</td>\n",
       "      <td>Windswift Slice</td>\n",
       "      <td>Zopandrel, Hunger Dominus</td>\n",
       "      <td>Worldslayer</td>\n",
       "      <td>Worldheart Phoenix</td>\n",
       "      <td>Worthy Cause</td>\n",
       "      <td>Windswift Slice</td>\n",
       "      <td>Wormfang Newt</td>\n",
       "      <td>Worthy Knight</td>\n",
       "      <td>...</td>\n",
       "      <td>Woebearer</td>\n",
       "      <td>Zulaport Duelist</td>\n",
       "      <td>Weatherlight Compleated</td>\n",
       "      <td>Xenic Poltergeist</td>\n",
       "      <td>Zelyon Sword</td>\n",
       "      <td>Yavimaya Iconoclast</td>\n",
       "      <td>Zhalfirin Void</td>\n",
       "      <td>Zombie Master // Zombie Master</td>\n",
       "      <td>Wretched Anurid</td>\n",
       "      <td>Zuran Orb</td>\n",
       "    </tr>\n",
       "    <tr>\n",
       "      <th>...</th>\n",
       "      <td>...</td>\n",
       "      <td>...</td>\n",
       "      <td>...</td>\n",
       "      <td>...</td>\n",
       "      <td>...</td>\n",
       "      <td>...</td>\n",
       "      <td>...</td>\n",
       "      <td>...</td>\n",
       "      <td>...</td>\n",
       "      <td>...</td>\n",
       "      <td>...</td>\n",
       "      <td>...</td>\n",
       "      <td>...</td>\n",
       "      <td>...</td>\n",
       "      <td>...</td>\n",
       "      <td>...</td>\n",
       "      <td>...</td>\n",
       "      <td>...</td>\n",
       "      <td>...</td>\n",
       "      <td>...</td>\n",
       "      <td>...</td>\n",
       "    </tr>\n",
       "    <tr>\n",
       "      <th>508</th>\n",
       "      <td>Bloom Tender</td>\n",
       "      <td>Path to Exile</td>\n",
       "      <td>Animate Dead</td>\n",
       "      <td>Sol Ring</td>\n",
       "      <td>Path to Exile</td>\n",
       "      <td>Dark Ritual</td>\n",
       "      <td>Animate Dead</td>\n",
       "      <td>Red Elemental Blast</td>\n",
       "      <td>Sol Ring</td>\n",
       "      <td>Sol Ring</td>\n",
       "      <td>...</td>\n",
       "      <td>Mentor of the Meek</td>\n",
       "      <td>Chaos Warp</td>\n",
       "      <td>Austere Command</td>\n",
       "      <td>Mana Vault</td>\n",
       "      <td>Teferi's Protection</td>\n",
       "      <td>Chaos Warp</td>\n",
       "      <td>Path to Exile</td>\n",
       "      <td>Blood Artist</td>\n",
       "      <td>Mana Drain</td>\n",
       "      <td>Mana Drain</td>\n",
       "    </tr>\n",
       "    <tr>\n",
       "      <th>509</th>\n",
       "      <td>Eternal Witness</td>\n",
       "      <td>Teferi's Protection</td>\n",
       "      <td>Dark Ritual</td>\n",
       "      <td>Force of Negation</td>\n",
       "      <td>Smothering Tithe</td>\n",
       "      <td>Demonic Tutor</td>\n",
       "      <td>Dark Ritual</td>\n",
       "      <td>Mana Vault</td>\n",
       "      <td>Mentor of the Meek</td>\n",
       "      <td>Mentor of the Meek</td>\n",
       "      <td>...</td>\n",
       "      <td>Path to Exile</td>\n",
       "      <td>Brainstorm</td>\n",
       "      <td>Land Tax</td>\n",
       "      <td>Sol Ring</td>\n",
       "      <td>Force of Negation</td>\n",
       "      <td>Bloom Tender</td>\n",
       "      <td>Teferi's Protection</td>\n",
       "      <td>Damnation</td>\n",
       "      <td>Blood Artist</td>\n",
       "      <td>Blood Artist</td>\n",
       "    </tr>\n",
       "    <tr>\n",
       "      <th>510</th>\n",
       "      <td>Green Sun's Zenith</td>\n",
       "      <td>Chaos Warp</td>\n",
       "      <td>Demonic Tutor</td>\n",
       "      <td>Mana Drain</td>\n",
       "      <td>Teferi's Protection</td>\n",
       "      <td>Lightning Bolt</td>\n",
       "      <td>Demonic Tutor</td>\n",
       "      <td>Sol Ring</td>\n",
       "      <td>Path to Exile</td>\n",
       "      <td>Path to Exile</td>\n",
       "      <td>...</td>\n",
       "      <td>Teferi's Protection</td>\n",
       "      <td>Force of Will</td>\n",
       "      <td>Mana Crypt</td>\n",
       "      <td>Force of Negation</td>\n",
       "      <td>Mana Drain</td>\n",
       "      <td>Eternal Witness</td>\n",
       "      <td>Chaos Warp</td>\n",
       "      <td>Go for the Throat</td>\n",
       "      <td>Damnation</td>\n",
       "      <td>Damnation</td>\n",
       "    </tr>\n",
       "    <tr>\n",
       "      <th>511</th>\n",
       "      <td>Hardened Scales</td>\n",
       "      <td>Austere Command</td>\n",
       "      <td>Wild Growth</td>\n",
       "      <td>Mulldrifter</td>\n",
       "      <td>Chaos Warp</td>\n",
       "      <td>Red Elemental Blast</td>\n",
       "      <td>Wild Growth</td>\n",
       "      <td>Blood Artist</td>\n",
       "      <td>Teferi's Protection</td>\n",
       "      <td>Teferi's Protection</td>\n",
       "      <td>...</td>\n",
       "      <td>Blood Artist</td>\n",
       "      <td>Pongify</td>\n",
       "      <td>Arcane Signet</td>\n",
       "      <td>Mana Drain</td>\n",
       "      <td>Supreme Verdict</td>\n",
       "      <td>Green Sun's Zenith</td>\n",
       "      <td>Austere Command</td>\n",
       "      <td>Chaos Warp</td>\n",
       "      <td>Go for the Throat</td>\n",
       "      <td>Go for the Throat</td>\n",
       "    </tr>\n",
       "    <tr>\n",
       "      <th>512</th>\n",
       "      <td>Avenger of Zendikar</td>\n",
       "      <td>Land Tax</td>\n",
       "      <td>Mana Vault</td>\n",
       "      <td>Bloom Tender</td>\n",
       "      <td>Dockside Extortionist</td>\n",
       "      <td>Mana Vault</td>\n",
       "      <td>Mana Vault</td>\n",
       "      <td>Damnation</td>\n",
       "      <td>Force of Negation</td>\n",
       "      <td>Force of Negation</td>\n",
       "      <td>...</td>\n",
       "      <td>Damnation</td>\n",
       "      <td>Abrade</td>\n",
       "      <td>Chromatic Lantern</td>\n",
       "      <td>Mulldrifter</td>\n",
       "      <td>Austere Command</td>\n",
       "      <td>Hardened Scales</td>\n",
       "      <td>Land Tax</td>\n",
       "      <td>Terminate</td>\n",
       "      <td>Brainstorm</td>\n",
       "      <td>Brainstorm</td>\n",
       "    </tr>\n",
       "  </tbody>\n",
       "</table>\n",
       "<p>513 rows × 189 columns</p>\n",
       "</div>"
      ],
      "text/plain": [
       "      Rishkar, Peema Renegade   Aurelia, the Warleader Doran, the Siege Tower  \\\n",
       "0    Yorvo, Lord of Garenbrig  Éomer, Marshal of Rohan          Yavimaya Wurm   \n",
       "1                  Young Wolf     Éowyn, Lady of Rohan       Woodlurker Mimic   \n",
       "2                   Workhorse        Wojek Halberdiers      Xenic Poltergeist   \n",
       "3                  Woodripper             Ydwen Efreet          Wing Puncture   \n",
       "4              _____-o-saurus   Zalto, Fire Giant Duke        Windswift Slice   \n",
       "..                        ...                      ...                    ...   \n",
       "508              Bloom Tender            Path to Exile           Animate Dead   \n",
       "509           Eternal Witness      Teferi's Protection            Dark Ritual   \n",
       "510        Green Sun's Zenith               Chaos Warp          Demonic Tutor   \n",
       "511           Hardened Scales          Austere Command            Wild Growth   \n",
       "512       Avenger of Zendikar                 Land Tax             Mana Vault   \n",
       "\n",
       "       Ezuri, Claw of Progress Firesong and Sunspeaker  \\\n",
       "0      Zegana, Utopian Speaker    Zada, Hedron Grinder   \n",
       "1     Yorvo, Lord of Garenbrig            Zephyr Boots   \n",
       "2              Workshop Elders      Wizard's Lightning   \n",
       "3             Wren's Run Hydra     Witchstalker Frenzy   \n",
       "4    Zopandrel, Hunger Dominus             Worldslayer   \n",
       "..                         ...                     ...   \n",
       "508                   Sol Ring           Path to Exile   \n",
       "509          Force of Negation        Smothering Tithe   \n",
       "510                 Mana Drain     Teferi's Protection   \n",
       "511                Mulldrifter              Chaos Warp   \n",
       "512               Bloom Tender   Dockside Extortionist   \n",
       "\n",
       "      Jodah, Archmage Eternal Karador, Ghost Chieftain  \\\n",
       "0               Zoetic Cavern                 Zephyrim   \n",
       "1                    Zephyrim       Writhing Necromass   \n",
       "2    Zahid, Djinn of the Lamp            Xander's Pact   \n",
       "3            Zombie Cutthroat      Yahenni's Expertise   \n",
       "4          Worldheart Phoenix             Worthy Cause   \n",
       "..                        ...                      ...   \n",
       "508               Dark Ritual             Animate Dead   \n",
       "509             Demonic Tutor              Dark Ritual   \n",
       "510            Lightning Bolt            Demonic Tutor   \n",
       "511       Red Elemental Blast              Wild Growth   \n",
       "512                Mana Vault               Mana Vault   \n",
       "\n",
       "      Wasitora, Nekoru Queen  Sharuum the Hegemon  \\\n",
       "0    Éomer of the Riddermark              Zombify   \n",
       "1       Zurzoth, Chaos Rider    Young Necromancer   \n",
       "2             Yawgmoth Demon           Zombie Mob   \n",
       "3              Yavimaya Wurm    Zombie Apocalypse   \n",
       "4            Windswift Slice        Wormfang Newt   \n",
       "..                       ...                  ...   \n",
       "508      Red Elemental Blast             Sol Ring   \n",
       "509               Mana Vault   Mentor of the Meek   \n",
       "510                 Sol Ring        Path to Exile   \n",
       "511             Blood Artist  Teferi's Protection   \n",
       "512                Damnation    Force of Negation   \n",
       "\n",
       "                   Marneus Calgar  ...      Killian, Ink Duelist  \\\n",
       "0    You're Confronted by Robbers  ...         Zulaport Enforcer   \n",
       "1              Zombie Infestation  ...  Xiahou Dun, the One-Eyed   \n",
       "2             Xathrid Necromancer  ...           Zombie Assassin   \n",
       "3             Zeriam, Golden Wind  ...                Zombie Boa   \n",
       "4                   Worthy Knight  ...                 Woebearer   \n",
       "..                            ...  ...                       ...   \n",
       "508                      Sol Ring  ...        Mentor of the Meek   \n",
       "509            Mentor of the Meek  ...             Path to Exile   \n",
       "510                 Path to Exile  ...       Teferi's Protection   \n",
       "511           Teferi's Protection  ...              Blood Artist   \n",
       "512             Force of Negation  ...                 Damnation   \n",
       "\n",
       "               The Tenth Doctor               Rose Tyler  \\\n",
       "0              Write into Being          Wingsteed Rider   \n",
       "1         Zhulodok, Void Gorger        Youthful Valkyrie   \n",
       "2    Wibbly-wobbly, Timey-wimey         Woolly Razorback   \n",
       "3                   Wiretapping              Weapon Rack   \n",
       "4              Zulaport Duelist  Weatherlight Compleated   \n",
       "..                          ...                      ...   \n",
       "508                  Chaos Warp          Austere Command   \n",
       "509                  Brainstorm                 Land Tax   \n",
       "510               Force of Will               Mana Crypt   \n",
       "511                     Pongify            Arcane Signet   \n",
       "512                      Abrade        Chromatic Lantern   \n",
       "\n",
       "      Ashad, the Lone Cyberman     The Fifth Doctor  The Fugitive Doctor  \\\n",
       "0    Zaffai, Thunder Conductor      Zhalfirin Decoy        Zoetic Cavern   \n",
       "1                Zephyr Singer    Zygon Infiltrator        Wrenn and Six   \n",
       "2         Zada, Hedron Grinder      Workshop Elders  Zirilan of the Claw   \n",
       "3             Young Pyromancer    Yotian Frontliner          Wurmcalling   \n",
       "4            Xenic Poltergeist         Zelyon Sword  Yavimaya Iconoclast   \n",
       "..                         ...                  ...                  ...   \n",
       "508                 Mana Vault  Teferi's Protection           Chaos Warp   \n",
       "509                   Sol Ring    Force of Negation         Bloom Tender   \n",
       "510          Force of Negation           Mana Drain      Eternal Witness   \n",
       "511                 Mana Drain      Supreme Verdict   Green Sun's Zenith   \n",
       "512                Mulldrifter      Austere Command      Hardened Scales   \n",
       "\n",
       "      Jenny, Generated Anomaly          The Master, Multiplied  \\\n",
       "0     Winota, Joiner of Forces       Yuan Shao, the Indecisive   \n",
       "1    Yidaro, Wandering Monster                  Xathrid Gorgon   \n",
       "2                 Wilfred Mott        Xiahou Dun, the One-Eyed   \n",
       "3             Wild Magic Surge     Zariel, Archduke of Avernus   \n",
       "4               Zhalfirin Void  Zombie Master // Zombie Master   \n",
       "..                         ...                             ...   \n",
       "508              Path to Exile                    Blood Artist   \n",
       "509        Teferi's Protection                       Damnation   \n",
       "510                 Chaos Warp               Go for the Throat   \n",
       "511            Austere Command                      Chaos Warp   \n",
       "512                   Land Tax                       Terminate   \n",
       "\n",
       "     Tegwyll, Duke of Splendor          Obyra, Dreaming Duelist  \n",
       "0           Zulaport Cutthroat               Zulaport Cutthroat  \n",
       "1           Zulaport Chainmage               Zulaport Chainmage  \n",
       "2                    Zuran Orb  Zof Consumption // Zof Bloodbog  \n",
       "3    Yawgmoth, Thran Physician  Zof Consumption // Zof Bloodbog  \n",
       "4              Wretched Anurid                        Zuran Orb  \n",
       "..                         ...                              ...  \n",
       "508                 Mana Drain                       Mana Drain  \n",
       "509               Blood Artist                     Blood Artist  \n",
       "510                  Damnation                        Damnation  \n",
       "511          Go for the Throat                Go for the Throat  \n",
       "512                 Brainstorm                       Brainstorm  \n",
       "\n",
       "[513 rows x 189 columns]"
      ]
     },
     "execution_count": 5,
     "metadata": {},
     "output_type": "execute_result"
    }
   ],
   "source": [
    "manual = load_data(MANUAL_PATH)\n",
    "manual"
   ]
  },
  {
   "cell_type": "code",
   "execution_count": 9,
   "metadata": {},
   "outputs": [
    {
     "name": "stdout",
     "output_type": "stream",
     "text": [
      "division by zero\n"
     ]
    }
   ],
   "source": [
    "for col in manual:\n",
    "        cmdr_f = \"\".join(x for x in col if x.isalnum()) + \".txt\"        \n",
    "        with open(os.path.join(MANUAL_SAVE, cmdr_f), \"w\") as f:\n",
    "            f.write(f\"1 {col}\\n\")\n",
    "            for row in manual[col].sample(63):\n",
    "                f.write(f\"1 {row}\\n\")\n",
    "        with open(os.path.join(MANUAL_SAVE, cmdr_f), \"a\") as f:\n",
    "            f.write(str(calculate_power(os.path.join(MANUAL_SAVE, cmdr_f))))"
   ]
  },
  {
   "cell_type": "code",
   "execution_count": 6,
   "metadata": {},
   "outputs": [
    {
     "data": {
      "text/html": [
       "<div>\n",
       "<style scoped>\n",
       "    .dataframe tbody tr th:only-of-type {\n",
       "        vertical-align: middle;\n",
       "    }\n",
       "\n",
       "    .dataframe tbody tr th {\n",
       "        vertical-align: top;\n",
       "    }\n",
       "\n",
       "    .dataframe thead th {\n",
       "        text-align: right;\n",
       "    }\n",
       "</style>\n",
       "<table border=\"1\" class=\"dataframe\">\n",
       "  <thead>\n",
       "    <tr style=\"text-align: right;\">\n",
       "      <th></th>\n",
       "      <th>test</th>\n",
       "      <th>valid</th>\n",
       "      <th>non_commander</th>\n",
       "    </tr>\n",
       "  </thead>\n",
       "  <tbody>\n",
       "    <tr>\n",
       "      <th>Firesong and Sunspeaker</th>\n",
       "      <td>{'total': 3379, 'cards': {'Sol Ring': 2944, 'B...</td>\n",
       "      <td>NaN</td>\n",
       "      <td>NaN</td>\n",
       "    </tr>\n",
       "    <tr>\n",
       "      <th>Xun Yu, Wei Advisor</th>\n",
       "      <td>{'total': 4, 'cards': {'Sol Ring': 4, 'Dark Ri...</td>\n",
       "      <td>NaN</td>\n",
       "      <td>NaN</td>\n",
       "    </tr>\n",
       "    <tr>\n",
       "      <th>Gimli, Counter of Kills</th>\n",
       "      <td>{'total': 90, 'cards': {'Torbran, Thane of Red...</td>\n",
       "      <td>NaN</td>\n",
       "      <td>{'total': 6203, 'cards': {'Sol Ring': 4872, 'A...</td>\n",
       "    </tr>\n",
       "    <tr>\n",
       "      <th>Frodo, Sauron's Bane</th>\n",
       "      <td>{'total': 2043, 'cards': {'Samwise the Stouthe...</td>\n",
       "      <td>NaN</td>\n",
       "      <td>NaN</td>\n",
       "    </tr>\n",
       "    <tr>\n",
       "      <th>Ziatora, the Incinerator</th>\n",
       "      <td>{'total': 7631, 'cards': {'Command Tower': 665...</td>\n",
       "      <td>NaN</td>\n",
       "      <td>{'total': 21252, 'cards': {'Command Tower': 19...</td>\n",
       "    </tr>\n",
       "    <tr>\n",
       "      <th>...</th>\n",
       "      <td>...</td>\n",
       "      <td>...</td>\n",
       "      <td>...</td>\n",
       "    </tr>\n",
       "    <tr>\n",
       "      <th>Walking Bulwark</th>\n",
       "      <td>NaN</td>\n",
       "      <td>NaN</td>\n",
       "      <td>{'total': 6608, 'cards': {'Command Tower': 566...</td>\n",
       "    </tr>\n",
       "    <tr>\n",
       "      <th>Uncaged Fury</th>\n",
       "      <td>NaN</td>\n",
       "      <td>NaN</td>\n",
       "      <td>{'total': 3063, 'cards': {'Sol Ring': 2019, 'T...</td>\n",
       "    </tr>\n",
       "    <tr>\n",
       "      <th>Stonehands</th>\n",
       "      <td>NaN</td>\n",
       "      <td>NaN</td>\n",
       "      <td>{'total': 59, 'cards': {'Sol Ring': 30, 'Arcan...</td>\n",
       "    </tr>\n",
       "    <tr>\n",
       "      <th>Flametongue Kavu</th>\n",
       "      <td>NaN</td>\n",
       "      <td>NaN</td>\n",
       "      <td>{'total': 3822, 'cards': {'Sol Ring': 2778, 'S...</td>\n",
       "    </tr>\n",
       "    <tr>\n",
       "      <th>Tuktuk Scrapper</th>\n",
       "      <td>NaN</td>\n",
       "      <td>NaN</td>\n",
       "      <td>{'total': 3315, 'cards': {'Sol Ring': 2537, 'C...</td>\n",
       "    </tr>\n",
       "  </tbody>\n",
       "</table>\n",
       "<p>11914 rows × 3 columns</p>\n",
       "</div>"
      ],
      "text/plain": [
       "                                                                       test  \\\n",
       "Firesong and Sunspeaker   {'total': 3379, 'cards': {'Sol Ring': 2944, 'B...   \n",
       "Xun Yu, Wei Advisor       {'total': 4, 'cards': {'Sol Ring': 4, 'Dark Ri...   \n",
       "Gimli, Counter of Kills   {'total': 90, 'cards': {'Torbran, Thane of Red...   \n",
       "Frodo, Sauron's Bane      {'total': 2043, 'cards': {'Samwise the Stouthe...   \n",
       "Ziatora, the Incinerator  {'total': 7631, 'cards': {'Command Tower': 665...   \n",
       "...                                                                     ...   \n",
       "Walking Bulwark                                                         NaN   \n",
       "Uncaged Fury                                                            NaN   \n",
       "Stonehands                                                              NaN   \n",
       "Flametongue Kavu                                                        NaN   \n",
       "Tuktuk Scrapper                                                         NaN   \n",
       "\n",
       "                         valid  \\\n",
       "Firesong and Sunspeaker    NaN   \n",
       "Xun Yu, Wei Advisor        NaN   \n",
       "Gimli, Counter of Kills    NaN   \n",
       "Frodo, Sauron's Bane       NaN   \n",
       "Ziatora, the Incinerator   NaN   \n",
       "...                        ...   \n",
       "Walking Bulwark            NaN   \n",
       "Uncaged Fury               NaN   \n",
       "Stonehands                 NaN   \n",
       "Flametongue Kavu           NaN   \n",
       "Tuktuk Scrapper            NaN   \n",
       "\n",
       "                                                              non_commander  \n",
       "Firesong and Sunspeaker                                                 NaN  \n",
       "Xun Yu, Wei Advisor                                                     NaN  \n",
       "Gimli, Counter of Kills   {'total': 6203, 'cards': {'Sol Ring': 4872, 'A...  \n",
       "Frodo, Sauron's Bane                                                    NaN  \n",
       "Ziatora, the Incinerator  {'total': 21252, 'cards': {'Command Tower': 19...  \n",
       "...                                                                     ...  \n",
       "Walking Bulwark           {'total': 6608, 'cards': {'Command Tower': 566...  \n",
       "Uncaged Fury              {'total': 3063, 'cards': {'Sol Ring': 2019, 'T...  \n",
       "Stonehands                {'total': 59, 'cards': {'Sol Ring': 30, 'Arcan...  \n",
       "Flametongue Kavu          {'total': 3822, 'cards': {'Sol Ring': 2778, 'S...  \n",
       "Tuktuk Scrapper           {'total': 3315, 'cards': {'Sol Ring': 2537, 'C...  \n",
       "\n",
       "[11914 rows x 3 columns]"
      ]
     },
     "execution_count": 6,
     "metadata": {},
     "output_type": "execute_result"
    }
   ],
   "source": [
    "edhrec = load_data(os.path.join(DATA_PATH, \"edhreclists.pkl\"))\n",
    "edhrec = pd.DataFrame(edhrec)\n",
    "edhrec"
   ]
  },
  {
   "cell_type": "code",
   "execution_count": 8,
   "metadata": {},
   "outputs": [
    {
     "name": "stderr",
     "output_type": "stream",
     "text": [
      " 67%|██████▋   | 127/189 [34:12<15:07, 14.64s/it] "
     ]
    },
    {
     "name": "stdout",
     "output_type": "stream",
     "text": [
      "division by zero\n"
     ]
    },
    {
     "name": "stderr",
     "output_type": "stream",
     "text": [
      "100%|██████████| 189/189 [1:04:28<00:00, 20.47s/it] \n"
     ]
    }
   ],
   "source": [
    "\n",
    "\n",
    "for commander in tqdm(edhrec[[i in manual.columns for i in edhrec.index]].index):\n",
    "    cmdr_f = \"\".join(x for x in commander if x.isalnum()) + \".txt\"\n",
    "    with open(os.path.join(EDH_SAVE, cmdr_f), \"w\") as f:\n",
    "        f.write(f\"1 {commander}\\n\")\n",
    "        for row in list(edhrec.loc[commander]['test']['cards'].keys())[:63]:\n",
    "            f.write(f\"1 {row}\\n\")\n",
    "    with open(os.path.join(EDH_SAVE, cmdr_f), \"a\") as f:\n",
    "            f.write(str(calculate_power(os.path.join(EDH_SAVE, cmdr_f))))\n",
    "    #print(commander, list(edhrec.loc[commander]['valid']['cards'].keys())[:62])\n",
    "    #print(list(edhrec.iloc[0]['valid']['cards'].keys())[:100])"
   ]
  },
  {
   "cell_type": "code",
   "execution_count": 2,
   "metadata": {},
   "outputs": [],
   "source": [
    "from scrape_cardlists import DATA_PATH\n",
    "DECKS = os.path.join(DATA_PATH, \"decks\")\n",
    "def compile_power(directory):\n",
    "    data = []  # To hold dictionaries from files\n",
    "    for root, dirs, files in os.walk(directory):\n",
    "        folder_name = os.path.basename(root)  # Get the current folder name\n",
    "        if folder_name == 'gpt':\n",
    "            for file in tqdm(files):\n",
    "                if file.endswith(\".txt\"):\n",
    "                    file_path = os.path.join(root, file)\n",
    "                    print(file_path)\n",
    "                    with open(file_path, 'r+', encoding='utf-8', errors='ignore') as f:\n",
    "                        lines = f.readlines()\n",
    "                        if lines:\n",
    "                            lines = lines[:-1]\n",
    "                            f.seek(0)\n",
    "                            f.writelines(lines)\n",
    "                            f.truncate()\n",
    "                            power = calculate_power(file_path)\n",
    "                            print(power)\n",
    "                            f.writelines(str(power))"
   ]
  },
  {
   "cell_type": "code",
   "execution_count": 3,
   "metadata": {},
   "outputs": [
    {
     "name": "stderr",
     "output_type": "stream",
     "text": [
      "  0%|          | 0/189 [00:00<?, ?it/s]"
     ]
    },
    {
     "name": "stdout",
     "output_type": "stream",
     "text": [
      "c:\\Users\\theod\\edh-llm\\data\\decks\\gpt\\AesiTyrantofGyreStrait.txt\n"
     ]
    },
    {
     "name": "stderr",
     "output_type": "stream",
     "text": [
      "  1%|          | 1/189 [00:15<49:56, 15.94s/it]"
     ]
    },
    {
     "name": "stdout",
     "output_type": "stream",
     "text": [
      "{'overall': 11.438461538461539, 'cmc': 3.7142857142857144, 'ramp': 15, 'draw': 28, 'interaction': 3}\n",
      "c:\\Users\\theod\\edh-llm\\data\\decks\\gpt\\AgrusKosEternalSoldier.txt\n"
     ]
    },
    {
     "name": "stderr",
     "output_type": "stream",
     "text": [
      "  1%|          | 2/189 [00:30<47:11, 15.14s/it]"
     ]
    },
    {
     "name": "stdout",
     "output_type": "stream",
     "text": [
      "{'overall': 5.217567567567568, 'cmc': 3.5238095238095237, 'ramp': 8, 'draw': 8, 'interaction': 13}\n",
      "c:\\Users\\theod\\edh-llm\\data\\decks\\gpt\\AkromaVisionofIxidor.txt\n"
     ]
    },
    {
     "name": "stderr",
     "output_type": "stream",
     "text": [
      "  2%|▏         | 3/189 [00:46<47:45, 15.41s/it]"
     ]
    },
    {
     "name": "stdout",
     "output_type": "stream",
     "text": [
      "{'overall': 2.401941747572815, 'cmc': 3.3225806451612905, 'ramp': 4, 'draw': 2, 'interaction': 6}\n",
      "c:\\Users\\theod\\edh-llm\\data\\decks\\gpt\\AlandraSkyDreamer.txt\n"
     ]
    },
    {
     "name": "stderr",
     "output_type": "stream",
     "text": [
      "  2%|▏         | 4/189 [01:00<46:18, 15.02s/it]"
     ]
    },
    {
     "name": "stdout",
     "output_type": "stream",
     "text": [
      "{'overall': 9.54468085106383, 'cmc': 3.671875, 'ramp': 4, 'draw': 31, 'interaction': 5}\n",
      "c:\\Users\\theod\\edh-llm\\data\\decks\\gpt\\AotheDawnSky.txt\n"
     ]
    },
    {
     "name": "stderr",
     "output_type": "stream",
     "text": [
      "  3%|▎         | 5/189 [01:17<48:32, 15.83s/it]"
     ]
    },
    {
     "name": "stdout",
     "output_type": "stream",
     "text": [
      "{'overall': 8.883165829145728, 'cmc': 3.1587301587301586, 'ramp': 15, 'draw': 16, 'interaction': 10}\n",
      "c:\\Users\\theod\\edh-llm\\data\\decks\\gpt\\AragornCompanyLeader.txt\n"
     ]
    },
    {
     "name": "stderr",
     "output_type": "stream",
     "text": [
      "  3%|▎         | 6/189 [01:55<1:10:39, 23.17s/it]"
     ]
    },
    {
     "name": "stdout",
     "output_type": "stream",
     "text": [
      "{'overall': 4.4265765765765765, 'cmc': 3.46875, 'ramp': 6, 'draw': 7, 'interaction': 12}\n",
      "c:\\Users\\theod\\edh-llm\\data\\decks\\gpt\\ArdozCobblerofWar.txt\n"
     ]
    },
    {
     "name": "stderr",
     "output_type": "stream",
     "text": [
      "  4%|▎         | 7/189 [02:10<1:01:57, 20.43s/it]"
     ]
    },
    {
     "name": "stdout",
     "output_type": "stream",
     "text": [
      "{'overall': 4.180851063829787, 'cmc': 2.9375, 'ramp': 7, 'draw': 4, 'interaction': 15}\n",
      "c:\\Users\\theod\\edh-llm\\data\\decks\\gpt\\AshadtheLoneCyberman.txt\n"
     ]
    },
    {
     "name": "stderr",
     "output_type": "stream",
     "text": [
      "  4%|▍         | 8/189 [02:24<56:14, 18.64s/it]  "
     ]
    },
    {
     "name": "stdout",
     "output_type": "stream",
     "text": [
      "{'overall': 6.003937007874016, 'cmc': 3.96875, 'ramp': 6, 'draw': 14, 'interaction': 10}\n",
      "c:\\Users\\theod\\edh-llm\\data\\decks\\gpt\\AthreosShroudVeiled.txt\n"
     ]
    },
    {
     "name": "stderr",
     "output_type": "stream",
     "text": [
      "  5%|▍         | 9/189 [02:38<51:27, 17.15s/it]"
     ]
    },
    {
     "name": "stdout",
     "output_type": "stream",
     "text": [
      "{'overall': 2.6675675675675676, 'cmc': 3.5238095238095237, 'ramp': 2, 'draw': 4, 'interaction': 12}\n",
      "c:\\Users\\theod\\edh-llm\\data\\decks\\gpt\\AureliaExemplarofJustice.txt\n"
     ]
    },
    {
     "name": "stderr",
     "output_type": "stream",
     "text": [
      "  5%|▌         | 10/189 [03:16<1:09:48, 23.40s/it]"
     ]
    },
    {
     "name": "stdout",
     "output_type": "stream",
     "text": [
      "{'overall': 1.8956521739130434, 'cmc': 2.875, 'ramp': 2, 'draw': 1, 'interaction': 9}\n",
      "c:\\Users\\theod\\edh-llm\\data\\decks\\gpt\\AureliatheWarleader.txt\n"
     ]
    },
    {
     "name": "stderr",
     "output_type": "stream",
     "text": [
      "  6%|▌         | 11/189 [03:31<1:01:42, 20.80s/it]"
     ]
    },
    {
     "name": "stdout",
     "output_type": "stream",
     "text": [
      "{'overall': 1.9743902439024392, 'cmc': 3.203125, 'ramp': 2, 'draw': 2, 'interaction': 7}\n",
      "c:\\Users\\theod\\edh-llm\\data\\decks\\gpt\\AutumnWillow.txt\n"
     ]
    },
    {
     "name": "stderr",
     "output_type": "stream",
     "text": [
      "  6%|▋         | 12/189 [03:47<57:37, 19.53s/it]  "
     ]
    },
    {
     "name": "stdout",
     "output_type": "stream",
     "text": [
      "{'overall': 6.168357487922705, 'cmc': 3.234375, 'ramp': 9, 'draw': 12, 'interaction': 6}\n",
      "c:\\Users\\theod\\edh-llm\\data\\decks\\gpt\\AyeshaTanaka.txt\n"
     ]
    },
    {
     "name": "stderr",
     "output_type": "stream",
     "text": [
      "  7%|▋         | 13/189 [04:02<53:15, 18.15s/it]"
     ]
    },
    {
     "name": "stdout",
     "output_type": "stream",
     "text": [
      "{'overall': 3.023762376237624, 'cmc': 3.2063492063492065, 'ramp': 2, 'draw': 6, 'interaction': 8}\n",
      "c:\\Users\\theod\\edh-llm\\data\\decks\\gpt\\AyliEternalPilgrim.txt\n"
     ]
    },
    {
     "name": "stderr",
     "output_type": "stream",
     "text": [
      "  7%|▋         | 14/189 [04:18<50:42, 17.38s/it]"
     ]
    },
    {
     "name": "stdout",
     "output_type": "stream",
     "text": [
      "{'overall': 5.499746192893401, 'cmc': 3.078125, 'ramp': 6, 'draw': 10, 'interaction': 17}\n",
      "c:\\Users\\theod\\edh-llm\\data\\decks\\gpt\\AzusaLostbutSeeking.txt\n"
     ]
    },
    {
     "name": "stderr",
     "output_type": "stream",
     "text": [
      "  8%|▊         | 15/189 [04:33<48:52, 16.85s/it]"
     ]
    },
    {
     "name": "stdout",
     "output_type": "stream",
     "text": [
      "{'overall': 9.015022421524662, 'cmc': 3.5396825396825395, 'ramp': 16, 'draw': 17, 'interaction': 4}\n",
      "c:\\Users\\theod\\edh-llm\\data\\decks\\gpt\\BartolomédelPresidio.txt\n",
      "division by zero\n",
      "division by zero\n"
     ]
    },
    {
     "name": "stderr",
     "output_type": "stream",
     "text": [
      "  8%|▊         | 16/189 [25:59<19:09:47, 398.77s/it]"
     ]
    },
    {
     "name": "stdout",
     "output_type": "stream",
     "text": [
      "{'overall': '1', 'cmc': 0, 'ramp': 0, 'draw': 0, 'interaction': 0}\n",
      "c:\\Users\\theod\\edh-llm\\data\\decks\\gpt\\BaruFistofKrosa.txt\n"
     ]
    },
    {
     "name": "stderr",
     "output_type": "stream",
     "text": [
      "  9%|▉         | 17/189 [26:14<13:32:00, 283.26s/it]"
     ]
    },
    {
     "name": "stdout",
     "output_type": "stream",
     "text": [
      "{'overall': 5.0120000000000005, 'cmc': 3.90625, 'ramp': 9, 'draw': 7, 'interaction': 10}\n",
      "c:\\Users\\theod\\edh-llm\\data\\decks\\gpt\\BelbeCorruptedObserver.txt\n"
     ]
    },
    {
     "name": "stderr",
     "output_type": "stream",
     "text": [
      " 10%|▉         | 18/189 [26:29<9:37:32, 202.64s/it] "
     ]
    },
    {
     "name": "stdout",
     "output_type": "stream",
     "text": [
      "{'overall': 5.449746192893401, 'cmc': 3.078125, 'ramp': 8, 'draw': 10, 'interaction': 6}\n",
      "c:\\Users\\theod\\edh-llm\\data\\decks\\gpt\\BessSoulNourisher.txt\n"
     ]
    },
    {
     "name": "stderr",
     "output_type": "stream",
     "text": [
      " 10%|█         | 19/189 [26:45<6:55:24, 146.61s/it]"
     ]
    },
    {
     "name": "stdout",
     "output_type": "stream",
     "text": [
      "{'overall': 2.8371559633027523, 'cmc': 3.40625, 'ramp': 3, 'draw': 3, 'interaction': 15}\n",
      "c:\\Users\\theod\\edh-llm\\data\\decks\\gpt\\BillthePony.txt\n"
     ]
    },
    {
     "name": "stderr",
     "output_type": "stream",
     "text": [
      " 11%|█         | 20/189 [26:59<5:01:19, 106.98s/it]"
     ]
    },
    {
     "name": "stdout",
     "output_type": "stream",
     "text": [
      "{'overall': 4.7932160804020105, 'cmc': 3.109375, 'ramp': 7, 'draw': 7, 'interaction': 13}\n",
      "c:\\Users\\theod\\edh-llm\\data\\decks\\gpt\\BrightPalmSoulAwakener.txt\n"
     ]
    },
    {
     "name": "stderr",
     "output_type": "stream",
     "text": [
      " 11%|█         | 21/189 [27:15<3:42:19, 79.40s/it] "
     ]
    },
    {
     "name": "stdout",
     "output_type": "stream",
     "text": [
      "{'overall': 2.83681592039801, 'cmc': 3.140625, 'ramp': 2, 'draw': 4, 'interaction': 14}\n",
      "c:\\Users\\theod\\edh-llm\\data\\decks\\gpt\\ButterburBreeInnkeeper.txt\n"
     ]
    },
    {
     "name": "stderr",
     "output_type": "stream",
     "text": [
      " 12%|█▏        | 22/189 [27:29<2:46:42, 59.90s/it]"
     ]
    },
    {
     "name": "stdout",
     "output_type": "stream",
     "text": [
      "{'overall': 5.816666666666667, 'cmc': 3.0, 'ramp': 10, 'draw': 9, 'interaction': 8}\n",
      "c:\\Users\\theod\\edh-llm\\data\\decks\\gpt\\CallapheBelovedoftheSea.txt\n"
     ]
    },
    {
     "name": "stderr",
     "output_type": "stream",
     "text": [
      " 12%|█▏        | 23/189 [27:44<2:08:43, 46.53s/it]"
     ]
    },
    {
     "name": "stdout",
     "output_type": "stream",
     "text": [
      "{'overall': 6.873991031390134, 'cmc': 3.484375, 'ramp': 4, 'draw': 19, 'interaction': 11}\n",
      "c:\\Users\\theod\\edh-llm\\data\\decks\\gpt\\CaptainSisay.txt\n"
     ]
    },
    {
     "name": "stderr",
     "output_type": "stream",
     "text": [
      " 13%|█▎        | 24/189 [28:19<1:58:02, 42.93s/it]"
     ]
    },
    {
     "name": "stdout",
     "output_type": "stream",
     "text": [
      "{'overall': 9.995348837209303, 'cmc': 3.359375, 'ramp': 19, 'draw': 18, 'interaction': 3}\n",
      "c:\\Users\\theod\\edh-llm\\data\\decks\\gpt\\ChainerDementiaMaster.txt\n"
     ]
    },
    {
     "name": "stderr",
     "output_type": "stream",
     "text": [
      " 13%|█▎        | 25/189 [28:37<1:37:13, 35.57s/it]"
     ]
    },
    {
     "name": "stdout",
     "output_type": "stream",
     "text": [
      "{'overall': 4.066666666666666, 'cmc': 3.0, 'ramp': 4, 'draw': 7, 'interaction': 13}\n",
      "c:\\Users\\theod\\edh-llm\\data\\decks\\gpt\\Chandler.txt\n"
     ]
    },
    {
     "name": "stderr",
     "output_type": "stream",
     "text": [
      " 14%|█▍        | 26/189 [28:53<1:20:06, 29.49s/it]"
     ]
    },
    {
     "name": "stdout",
     "output_type": "stream",
     "text": [
      "{'overall': 5.703061224489796, 'cmc': 3.0625, 'ramp': 6, 'draw': 9, 'interaction': 26}\n",
      "c:\\Users\\theod\\edh-llm\\data\\decks\\gpt\\CharixtheRagingIsle.txt\n"
     ]
    },
    {
     "name": "stderr",
     "output_type": "stream",
     "text": [
      " 14%|█▍        | 27/189 [29:31<1:26:59, 32.22s/it]"
     ]
    },
    {
     "name": "stdout",
     "output_type": "stream",
     "text": [
      "{'overall': 5.492178770949721, 'cmc': 3.3773584905660377, 'ramp': 3, 'draw': 14, 'interaction': 13}\n",
      "c:\\Users\\theod\\edh-llm\\data\\decks\\gpt\\ChevillBaneofMonsters.txt\n"
     ]
    },
    {
     "name": "stderr",
     "output_type": "stream",
     "text": [
      " 15%|█▍        | 28/189 [29:46<1:12:13, 26.92s/it]"
     ]
    },
    {
     "name": "stdout",
     "output_type": "stream",
     "text": [
      "{'overall': 5.2753424657534245, 'cmc': 3.4761904761904763, 'ramp': 6, 'draw': 9, 'interaction': 19}\n",
      "c:\\Users\\theod\\edh-llm\\data\\decks\\gpt\\ColfenortheLastYew.txt\n"
     ]
    },
    {
     "name": "stderr",
     "output_type": "stream",
     "text": [
      " 15%|█▌        | 29/189 [30:00<1:01:45, 23.16s/it]"
     ]
    },
    {
     "name": "stdout",
     "output_type": "stream",
     "text": [
      "{'overall': 4.790772532188841, 'cmc': 3.6984126984126986, 'ramp': 6, 'draw': 9, 'interaction': 10}\n",
      "c:\\Users\\theod\\edh-llm\\data\\decks\\gpt\\DeathleaperTerrorWeapon.txt\n"
     ]
    },
    {
     "name": "stderr",
     "output_type": "stream",
     "text": [
      " 16%|█▌        | 30/189 [30:15<54:31, 20.58s/it]  "
     ]
    },
    {
     "name": "stdout",
     "output_type": "stream",
     "text": [
      "{'overall': 3.7037735849056603, 'cmc': 3.3125, 'ramp': 7, 'draw': 4, 'interaction': 7}\n",
      "c:\\Users\\theod\\edh-llm\\data\\decks\\gpt\\DepalaPilotExemplar.txt\n"
     ]
    },
    {
     "name": "stderr",
     "output_type": "stream",
     "text": [
      " 16%|█▋        | 31/189 [30:29<49:21, 18.74s/it]"
     ]
    },
    {
     "name": "stdout",
     "output_type": "stream",
     "text": [
      "{'overall': 6.966666666666667, 'cmc': 3.0, 'ramp': 9, 'draw': 14, 'interaction': 11}\n",
      "c:\\Users\\theod\\edh-llm\\data\\decks\\gpt\\DinaSoulSteeper.txt\n"
     ]
    },
    {
     "name": "stderr",
     "output_type": "stream",
     "text": [
      " 17%|█▋        | 32/189 [30:44<45:39, 17.45s/it]"
     ]
    },
    {
     "name": "stdout",
     "output_type": "stream",
     "text": [
      "{'overall': 4.149453551912568, 'cmc': 2.859375, 'ramp': 6, 'draw': 5, 'interaction': 14}\n",
      "c:\\Users\\theod\\edh-llm\\data\\decks\\gpt\\DjeruandHazoret.txt\n"
     ]
    },
    {
     "name": "stderr",
     "output_type": "stream",
     "text": [
      " 17%|█▋        | 33/189 [30:59<43:56, 16.90s/it]"
     ]
    },
    {
     "name": "stdout",
     "output_type": "stream",
     "text": [
      "{'overall': 7.515384615384615, 'cmc': 3.25, 'ramp': 10, 'draw': 15, 'interaction': 13}\n",
      "c:\\Users\\theod\\edh-llm\\data\\decks\\gpt\\DjeruWithEyesOpen.txt\n"
     ]
    },
    {
     "name": "stderr",
     "output_type": "stream",
     "text": [
      " 18%|█▊        | 34/189 [31:15<42:48, 16.57s/it]"
     ]
    },
    {
     "name": "stdout",
     "output_type": "stream",
     "text": [
      "{'overall': 7.783663366336634, 'cmc': 3.15625, 'ramp': 10, 'draw': 17, 'interaction': 8}\n",
      "c:\\Users\\theod\\edh-llm\\data\\decks\\gpt\\DorantheSiegeTower.txt\n"
     ]
    },
    {
     "name": "stderr",
     "output_type": "stream",
     "text": [
      " 19%|█▊        | 35/189 [31:29<40:48, 15.90s/it]"
     ]
    },
    {
     "name": "stdout",
     "output_type": "stream",
     "text": [
      "{'overall': 3.7265765765765764, 'cmc': 3.46875, 'ramp': 4, 'draw': 6, 'interaction': 13}\n",
      "c:\\Users\\theod\\edh-llm\\data\\decks\\gpt\\DragonlordOjutai.txt\n"
     ]
    },
    {
     "name": "stderr",
     "output_type": "stream",
     "text": [
      " 19%|█▉        | 36/189 [31:44<39:30, 15.50s/it]"
     ]
    },
    {
     "name": "stdout",
     "output_type": "stream",
     "text": [
      "{'overall': 12.06637168141593, 'cmc': 3.53125, 'ramp': 8, 'draw': 37, 'interaction': 5}\n",
      "c:\\Users\\theod\\edh-llm\\data\\decks\\gpt\\DromartheBanisher.txt\n"
     ]
    },
    {
     "name": "stderr",
     "output_type": "stream",
     "text": [
      " 20%|█▉        | 37/189 [31:59<38:45, 15.30s/it]"
     ]
    },
    {
     "name": "stdout",
     "output_type": "stream",
     "text": [
      "{'overall': 5.99468085106383, 'cmc': 3.671875, 'ramp': 1, 'draw': 18, 'interaction': 14}\n",
      "c:\\Users\\theod\\edh-llm\\data\\decks\\gpt\\ElasilKorSadisticPilgrim.txt\n"
     ]
    },
    {
     "name": "stderr",
     "output_type": "stream",
     "text": [
      " 20%|██        | 38/189 [32:13<38:04, 15.13s/it]"
     ]
    },
    {
     "name": "stdout",
     "output_type": "stream",
     "text": [
      "{'overall': 3.24, 'cmc': 3.125, 'ramp': 1, 'draw': 7, 'interaction': 12}\n",
      "c:\\Users\\theod\\edh-llm\\data\\decks\\gpt\\ElendaandAzor.txt\n"
     ]
    },
    {
     "name": "stderr",
     "output_type": "stream",
     "text": [
      " 21%|██        | 39/189 [32:28<37:23, 14.96s/it]"
     ]
    },
    {
     "name": "stdout",
     "output_type": "stream",
     "text": [
      "{'overall': 5.813876651982379, 'cmc': 3.546875, 'ramp': 1, 'draw': 18, 'interaction': 10}\n",
      "c:\\Users\\theod\\edh-llm\\data\\decks\\gpt\\EllynHarbreezeBusybody.txt\n"
     ]
    },
    {
     "name": "stderr",
     "output_type": "stream",
     "text": [
      " 21%|██        | 40/189 [32:43<37:13, 14.99s/it]"
     ]
    },
    {
     "name": "stdout",
     "output_type": "stream",
     "text": [
      "{'overall': 5.65625, 'cmc': 3.0476190476190474, 'ramp': 6, 'draw': 12, 'interaction': 10}\n",
      "c:\\Users\\theod\\edh-llm\\data\\decks\\gpt\\ElrondMasterofHealing.txt\n"
     ]
    },
    {
     "name": "stderr",
     "output_type": "stream",
     "text": [
      " 22%|██▏       | 41/189 [32:59<37:26, 15.18s/it]"
     ]
    },
    {
     "name": "stdout",
     "output_type": "stream",
     "text": [
      "{'overall': 9.242372881355932, 'cmc': 3.6875, 'ramp': 8, 'draw': 25, 'interaction': 9}\n",
      "c:\\Users\\theod\\edh-llm\\data\\decks\\gpt\\ElrondoftheWhiteCouncil.txt\n"
     ]
    },
    {
     "name": "stderr",
     "output_type": "stream",
     "text": [
      " 22%|██▏       | 42/189 [33:33<51:35, 21.06s/it]"
     ]
    },
    {
     "name": "stdout",
     "output_type": "stream",
     "text": [
      "{'overall': 6.308695652173913, 'cmc': 3.2857142857142856, 'ramp': 10, 'draw': 11, 'interaction': 9}\n",
      "c:\\Users\\theod\\edh-llm\\data\\decks\\gpt\\EmperorMihailII.txt\n"
     ]
    },
    {
     "name": "stderr",
     "output_type": "stream",
     "text": [
      " 23%|██▎       | 43/189 [33:48<46:35, 19.15s/it]"
     ]
    },
    {
     "name": "stdout",
     "output_type": "stream",
     "text": [
      "{'overall': 9.178925619834711, 'cmc': 3.78125, 'ramp': 5, 'draw': 28, 'interaction': 8}\n",
      "c:\\Users\\theod\\edh-llm\\data\\decks\\gpt\\EmrakulthePromisedEnd.txt\n"
     ]
    },
    {
     "name": "stderr",
     "output_type": "stream",
     "text": [
      " 23%|██▎       | 44/189 [34:02<42:48, 17.71s/it]"
     ]
    },
    {
     "name": "stdout",
     "output_type": "stream",
     "text": [
      "{'overall': 6.789884393063583, 'cmc': 2.703125, 'ramp': 14, 'draw': 9, 'interaction': 6}\n",
      "c:\\Users\\theod\\edh-llm\\data\\decks\\gpt\\ErietteoftheCharmedApple.txt\n"
     ]
    },
    {
     "name": "stderr",
     "output_type": "stream",
     "text": [
      " 24%|██▍       | 45/189 [34:18<40:48, 17.00s/it]"
     ]
    },
    {
     "name": "stdout",
     "output_type": "stream",
     "text": [
      "{'overall': 2.6714285714285713, 'cmc': 3.5, 'ramp': 2, 'draw': 4, 'interaction': 12}\n",
      "c:\\Users\\theod\\edh-llm\\data\\decks\\gpt\\ErtaiWizardAdept.txt\n"
     ]
    },
    {
     "name": "stderr",
     "output_type": "stream",
     "text": [
      " 24%|██▍       | 46/189 [34:32<38:48, 16.28s/it]"
     ]
    },
    {
     "name": "stdout",
     "output_type": "stream",
     "text": [
      "{'overall': 7.645348837209302, 'cmc': 3.359375, 'ramp': 7, 'draw': 18, 'interaction': 16}\n",
      "c:\\Users\\theod\\edh-llm\\data\\decks\\gpt\\EsiorWardwingFamiliar.txt\n"
     ]
    },
    {
     "name": "stderr",
     "output_type": "stream",
     "text": [
      " 25%|██▍       | 47/189 [34:47<37:37, 15.90s/it]"
     ]
    },
    {
     "name": "stdout",
     "output_type": "stream",
     "text": [
      "{'overall': 7.286046511627907, 'cmc': 3.4126984126984126, 'ramp': 2, 'draw': 23, 'interaction': 9}\n",
      "c:\\Users\\theod\\edh-llm\\data\\decks\\gpt\\EzuriClawofProgress.txt\n"
     ]
    },
    {
     "name": "stderr",
     "output_type": "stream",
     "text": [
      " 25%|██▌       | 48/189 [35:02<36:16, 15.43s/it]"
     ]
    },
    {
     "name": "stdout",
     "output_type": "stream",
     "text": [
      "{'overall': 6.490772532188841, 'cmc': 3.6984126984126986, 'ramp': 8, 'draw': 15, 'interaction': 4}\n",
      "c:\\Users\\theod\\edh-llm\\data\\decks\\gpt\\FaramirStewardofGondor.txt\n"
     ]
    },
    {
     "name": "stderr",
     "output_type": "stream",
     "text": [
      " 26%|██▌       | 49/189 [35:22<39:11, 16.80s/it]"
     ]
    },
    {
     "name": "stdout",
     "output_type": "stream",
     "text": [
      "{'overall': 5.523991031390135, 'cmc': 3.484375, 'ramp': 7, 'draw': 11, 'interaction': 9}\n",
      "c:\\Users\\theod\\edh-llm\\data\\decks\\gpt\\FiresongandSunspeaker.txt\n"
     ]
    },
    {
     "name": "stderr",
     "output_type": "stream",
     "text": [
      " 26%|██▋       | 50/189 [35:39<39:24, 17.01s/it]"
     ]
    },
    {
     "name": "stdout",
     "output_type": "stream",
     "text": [
      "{'overall': 4.40952380952381, 'cmc': 3.28125, 'ramp': 6, 'draw': 5, 'interaction': 21}\n",
      "c:\\Users\\theod\\edh-llm\\data\\decks\\gpt\\FirjaJudgeofValor.txt\n"
     ]
    },
    {
     "name": "stderr",
     "output_type": "stream",
     "text": [
      " 27%|██▋       | 51/189 [35:58<39:58, 17.38s/it]"
     ]
    },
    {
     "name": "stdout",
     "output_type": "stream",
     "text": [
      "{'overall': 4.5994535519125685, 'cmc': 2.859375, 'ramp': 3, 'draw': 11, 'interaction': 8}\n",
      "c:\\Users\\theod\\edh-llm\\data\\decks\\gpt\\FlorianVoldarenScion.txt\n"
     ]
    },
    {
     "name": "stderr",
     "output_type": "stream",
     "text": [
      " 28%|██▊       | 52/189 [36:13<38:22, 16.80s/it]"
     ]
    },
    {
     "name": "stdout",
     "output_type": "stream",
     "text": [
      "{'overall': 5.919101123595506, 'cmc': 2.78125, 'ramp': 7, 'draw': 11, 'interaction': 14}\n",
      "c:\\Users\\theod\\edh-llm\\data\\decks\\gpt\\FrodoDeterminedHero.txt\n"
     ]
    },
    {
     "name": "stderr",
     "output_type": "stream",
     "text": [
      " 28%|██▊       | 53/189 [36:30<38:31, 17.00s/it]"
     ]
    },
    {
     "name": "stdout",
     "output_type": "stream",
     "text": [
      "{'overall': 5.157865168539326, 'cmc': 2.8253968253968256, 'ramp': 7, 'draw': 8, 'interaction': 14}\n",
      "c:\\Users\\theod\\edh-llm\\data\\decks\\gpt\\FrodoSauronsBane.txt\n"
     ]
    },
    {
     "name": "stderr",
     "output_type": "stream",
     "text": [
      " 29%|██▊       | 54/189 [36:45<36:52, 16.39s/it]"
     ]
    },
    {
     "name": "stdout",
     "output_type": "stream",
     "text": [
      "{'overall': 4.677450980392157, 'cmc': 3.1875, 'ramp': 7, 'draw': 6, 'interaction': 16}\n",
      "c:\\Users\\theod\\edh-llm\\data\\decks\\gpt\\GahijiHonoredOne.txt\n"
     ]
    },
    {
     "name": "stderr",
     "output_type": "stream",
     "text": [
      " 29%|██▉       | 55/189 [37:04<37:56, 16.99s/it]"
     ]
    },
    {
     "name": "stdout",
     "output_type": "stream",
     "text": [
      "{'overall': 3.4994845360824742, 'cmc': 3.0793650793650795, 'ramp': 6, 'draw': 4, 'interaction': 7}\n",
      "c:\\Users\\theod\\edh-llm\\data\\decks\\gpt\\GaladrielofLothlórien.txt\n"
     ]
    },
    {
     "name": "stderr",
     "output_type": "stream",
     "text": [
      " 30%|██▉       | 56/189 [37:18<36:04, 16.27s/it]"
     ]
    },
    {
     "name": "stdout",
     "output_type": "stream",
     "text": [
      "{'overall': 12.315384615384614, 'cmc': 3.25, 'ramp': 15, 'draw': 31, 'interaction': 4}\n",
      "c:\\Users\\theod\\edh-llm\\data\\decks\\gpt\\GanaxAstralHunter.txt\n"
     ]
    },
    {
     "name": "stderr",
     "output_type": "stream",
     "text": [
      " 30%|███       | 57/189 [37:37<37:20, 16.98s/it]"
     ]
    },
    {
     "name": "stdout",
     "output_type": "stream",
     "text": [
      "{'overall': 7.020157068062827, 'cmc': 2.984375, 'ramp': 16, 'draw': 6, 'interaction': 17}\n",
      "c:\\Users\\theod\\edh-llm\\data\\decks\\gpt\\GandalfWestwardVoyager.txt\n"
     ]
    },
    {
     "name": "stderr",
     "output_type": "stream",
     "text": [
      " 31%|███       | 58/189 [37:52<35:54, 16.45s/it]"
     ]
    },
    {
     "name": "stdout",
     "output_type": "stream",
     "text": [
      "{'overall': 9.149356223175966, 'cmc': 3.640625, 'ramp': 9, 'draw': 24, 'interaction': 7}\n",
      "c:\\Users\\theod\\edh-llm\\data\\decks\\gpt\\GandalfWhiteRider.txt\n"
     ]
    },
    {
     "name": "stderr",
     "output_type": "stream",
     "text": [
      " 31%|███       | 59/189 [38:07<34:29, 15.92s/it]"
     ]
    },
    {
     "name": "stdout",
     "output_type": "stream",
     "text": [
      "{'overall': 6.283663366336634, 'cmc': 3.15625, 'ramp': 11, 'draw': 10, 'interaction': 8}\n",
      "c:\\Users\\theod\\edh-llm\\data\\decks\\gpt\\GarzaZolPlagueQueen.txt\n"
     ]
    },
    {
     "name": "stderr",
     "output_type": "stream",
     "text": [
      " 32%|███▏      | 60/189 [38:21<33:16, 15.48s/it]"
     ]
    },
    {
     "name": "stdout",
     "output_type": "stream",
     "text": [
      "{'overall': 3.729185520361991, 'cmc': 3.453125, 'ramp': 2, 'draw': 6, 'interaction': 23}\n",
      "c:\\Users\\theod\\edh-llm\\data\\decks\\gpt\\GhaltaStampedeTyrant.txt\n"
     ]
    },
    {
     "name": "stderr",
     "output_type": "stream",
     "text": [
      " 32%|███▏      | 61/189 [38:36<32:43, 15.34s/it]"
     ]
    },
    {
     "name": "stdout",
     "output_type": "stream",
     "text": [
      "{'overall': 8.677450980392157, 'cmc': 3.1875, 'ramp': 18, 'draw': 13, 'interaction': 6}\n",
      "c:\\Users\\theod\\edh-llm\\data\\decks\\gpt\\GhostofRamirezDePietro.txt\n"
     ]
    },
    {
     "name": "stderr",
     "output_type": "stream",
     "text": [
      " 33%|███▎      | 62/189 [38:51<31:58, 15.11s/it]"
     ]
    },
    {
     "name": "stdout",
     "output_type": "stream",
     "text": [
      "{'overall': 8.745348837209303, 'cmc': 3.359375, 'ramp': 2, 'draw': 29, 'interaction': 8}\n",
      "c:\\Users\\theod\\edh-llm\\data\\decks\\gpt\\GimliCounterofKills.txt\n"
     ]
    },
    {
     "name": "stderr",
     "output_type": "stream",
     "text": [
      " 33%|███▎      | 63/189 [39:06<31:29, 15.00s/it]"
     ]
    },
    {
     "name": "stdout",
     "output_type": "stream",
     "text": [
      "{'overall': 2.529185520361991, 'cmc': 3.453125, 'ramp': 2, 'draw': 0, 'interaction': 29}\n",
      "c:\\Users\\theod\\edh-llm\\data\\decks\\gpt\\GluntchtheBestower.txt\n"
     ]
    },
    {
     "name": "stderr",
     "output_type": "stream",
     "text": [
      " 34%|███▍      | 64/189 [39:20<30:56, 14.85s/it]"
     ]
    },
    {
     "name": "stdout",
     "output_type": "stream",
     "text": [
      "{'overall': 8.262, 'cmc': 3.90625, 'ramp': 13, 'draw': 16, 'interaction': 10}\n",
      "c:\\Users\\theod\\edh-llm\\data\\decks\\gpt\\GnostroVoiceoftheCrags.txt\n"
     ]
    },
    {
     "name": "stderr",
     "output_type": "stream",
     "text": [
      " 34%|███▍      | 65/189 [39:37<31:40, 15.33s/it]"
     ]
    },
    {
     "name": "stdout",
     "output_type": "stream",
     "text": [
      "{'overall': 5.1291855203619905, 'cmc': 3.453125, 'ramp': 1, 'draw': 13, 'interaction': 21}\n",
      "c:\\Users\\theod\\edh-llm\\data\\decks\\gpt\\GoddricCloakedReveler.txt\n"
     ]
    },
    {
     "name": "stderr",
     "output_type": "stream",
     "text": [
      " 35%|███▍      | 66/189 [39:52<31:18, 15.27s/it]"
     ]
    },
    {
     "name": "stdout",
     "output_type": "stream",
     "text": [
      "{'overall': 2.8528497409326428, 'cmc': 3.0634920634920637, 'ramp': 5, 'draw': 2, 'interaction': 9}\n",
      "c:\\Users\\theod\\edh-llm\\data\\decks\\gpt\\GollumObsessedStalker.txt\n"
     ]
    },
    {
     "name": "stderr",
     "output_type": "stream",
     "text": [
      " 35%|███▌      | 67/189 [40:08<31:46, 15.63s/it]"
     ]
    },
    {
     "name": "stdout",
     "output_type": "stream",
     "text": [
      "{'overall': 3.6743902439024394, 'cmc': 3.203125, 'ramp': 6, 'draw': 3, 'interaction': 16}\n",
      "c:\\Users\\theod\\edh-llm\\data\\decks\\gpt\\GoShintaiofBoundlessVigor.txt\n"
     ]
    },
    {
     "name": "stderr",
     "output_type": "stream",
     "text": [
      " 36%|███▌      | 68/189 [40:23<30:48, 15.27s/it]"
     ]
    },
    {
     "name": "stdout",
     "output_type": "stream",
     "text": [
      "{'overall': 5.170135746606334, 'cmc': 3.507936507936508, 'ramp': 11, 'draw': 6, 'interaction': 7}\n",
      "c:\\Users\\theod\\edh-llm\\data\\decks\\gpt\\GrandmotherSengir.txt\n"
     ]
    },
    {
     "name": "stderr",
     "output_type": "stream",
     "text": [
      " 37%|███▋      | 69/189 [40:38<30:31, 15.27s/it]"
     ]
    },
    {
     "name": "stdout",
     "output_type": "stream",
     "text": [
      "{'overall': 3.164634146341464, 'cmc': 3.253968253968254, 'ramp': 2, 'draw': 6, 'interaction': 11}\n",
      "c:\\Users\\theod\\edh-llm\\data\\decks\\gpt\\GretchenTitchwillow.txt\n"
     ]
    },
    {
     "name": "stderr",
     "output_type": "stream",
     "text": [
      " 37%|███▋      | 70/189 [40:52<29:51, 15.05s/it]"
     ]
    },
    {
     "name": "stdout",
     "output_type": "stream",
     "text": [
      "{'overall': 12.406521739130435, 'cmc': 3.59375, 'ramp': 18, 'draw': 29, 'interaction': 2}\n",
      "c:\\Users\\theod\\edh-llm\\data\\decks\\gpt\\GwaihirGreatestoftheEagles.txt\n"
     ]
    },
    {
     "name": "stderr",
     "output_type": "stream",
     "text": [
      " 38%|███▊      | 71/189 [41:08<29:53, 15.20s/it]"
     ]
    },
    {
     "name": "stdout",
     "output_type": "stream",
     "text": [
      "{'overall': 3.3028497409326425, 'cmc': 3.0634920634920637, 'ramp': 6, 'draw': 3, 'interaction': 8}\n",
      "c:\\Users\\theod\\edh-llm\\data\\decks\\gpt\\HanskSlayerZealot.txt\n"
     ]
    },
    {
     "name": "stderr",
     "output_type": "stream",
     "text": [
      " 38%|███▊      | 72/189 [41:24<29:58, 15.37s/it]"
     ]
    },
    {
     "name": "stdout",
     "output_type": "stream",
     "text": [
      "{'overall': 6.604112554112554, 'cmc': 3.609375, 'ramp': 8, 'draw': 13, 'interaction': 16}\n",
      "c:\\Users\\theod\\edh-llm\\data\\decks\\gpt\\HeikoYamazakitheGeneral.txt\n"
     ]
    },
    {
     "name": "stderr",
     "output_type": "stream",
     "text": [
      " 39%|███▊      | 73/189 [41:39<29:38, 15.33s/it]"
     ]
    },
    {
     "name": "stdout",
     "output_type": "stream",
     "text": [
      "{'overall': 3.9470085470085468, 'cmc': 3.65625, 'ramp': 5, 'draw': 6, 'interaction': 13}\n",
      "c:\\Users\\theod\\edh-llm\\data\\decks\\gpt\\HidetsuguandKairi.txt\n"
     ]
    },
    {
     "name": "stderr",
     "output_type": "stream",
     "text": [
      " 39%|███▉      | 74/189 [41:54<28:59, 15.13s/it]"
     ]
    },
    {
     "name": "stdout",
     "output_type": "stream",
     "text": [
      "{'overall': 6.865022421524664, 'cmc': 3.5396825396825395, 'ramp': 2, 'draw': 21, 'interaction': 11}\n",
      "c:\\Users\\theod\\edh-llm\\data\\decks\\gpt\\HikariTwilightGuardian.txt\n"
     ]
    },
    {
     "name": "stderr",
     "output_type": "stream",
     "text": [
      " 40%|███▉      | 75/189 [42:08<28:16, 14.88s/it]"
     ]
    },
    {
     "name": "stdout",
     "output_type": "stream",
     "text": [
      "{'overall': 5.163106796116504, 'cmc': 3.5517241379310347, 'ramp': 7, 'draw': 10, 'interaction': 7}\n",
      "c:\\Users\\theod\\edh-llm\\data\\decks\\gpt\\HisokaMinamoSensei.txt\n"
     ]
    },
    {
     "name": "stderr",
     "output_type": "stream",
     "text": [
      " 40%|████      | 76/189 [42:22<27:42, 14.71s/it]"
     ]
    },
    {
     "name": "stdout",
     "output_type": "stream",
     "text": [
      "{'overall': 7.54468085106383, 'cmc': 3.671875, 'ramp': 5, 'draw': 22, 'interaction': 5}\n",
      "c:\\Users\\theod\\edh-llm\\data\\decks\\gpt\\IkraShidiqitheUsurper.txt\n"
     ]
    },
    {
     "name": "stderr",
     "output_type": "stream",
     "text": [
      " 41%|████      | 77/189 [42:37<27:16, 14.62s/it]"
     ]
    },
    {
     "name": "stdout",
     "output_type": "stream",
     "text": [
      "{'overall': 6.027981651376147, 'cmc': 3.4603174603174605, 'ramp': 9, 'draw': 10, 'interaction': 14}\n",
      "c:\\Users\\theod\\edh-llm\\data\\decks\\gpt\\IlhargtheRazeBoar.txt\n"
     ]
    },
    {
     "name": "stderr",
     "output_type": "stream",
     "text": [
      " 41%|████▏     | 78/189 [42:53<28:06, 15.19s/it]"
     ]
    },
    {
     "name": "stdout",
     "output_type": "stream",
     "text": [
      "{'overall': 7.749746192893401, 'cmc': 3.078125, 'ramp': 11, 'draw': 15, 'interaction': 12}\n",
      "c:\\Users\\theod\\edh-llm\\data\\decks\\gpt\\ImoenMysticTrickster.txt\n"
     ]
    },
    {
     "name": "stderr",
     "output_type": "stream",
     "text": [
      " 42%|████▏     | 79/189 [43:08<27:38, 15.08s/it]"
     ]
    },
    {
     "name": "stdout",
     "output_type": "stream",
     "text": [
      "{'overall': 7.620135746606334, 'cmc': 3.507936507936508, 'ramp': 3, 'draw': 23, 'interaction': 11}\n",
      "c:\\Users\\theod\\edh-llm\\data\\decks\\gpt\\InameasOne.txt\n",
      "division by zero\n",
      "division by zero\n",
      "division by zero\n",
      "division by zero\n",
      "division by zero\n",
      "division by zero\n",
      "division by zero\n",
      "division by zero\n",
      "division by zero\n",
      "division by zero\n",
      "division by zero\n"
     ]
    },
    {
     "name": "stderr",
     "output_type": "stream",
     "text": [
      " 42%|████▏     | 80/189 [2:40:36<64:20:32, 2125.07s/it]"
     ]
    },
    {
     "name": "stdout",
     "output_type": "stream",
     "text": [
      "{'overall': '1', 'cmc': 0, 'ramp': 0, 'draw': 0, 'interaction': 0}\n",
      "c:\\Users\\theod\\edh-llm\\data\\decks\\gpt\\InniaztheGaleForce.txt\n"
     ]
    },
    {
     "name": "stderr",
     "output_type": "stream",
     "text": [
      " 43%|████▎     | 81/189 [2:41:34<45:08:49, 1504.90s/it]"
     ]
    },
    {
     "name": "stdout",
     "output_type": "stream",
     "text": [
      "{'overall': 3.2713592233009705, 'cmc': 3.21875, 'ramp': 2, 'draw': 7, 'interaction': 8}\n",
      "c:\\Users\\theod\\edh-llm\\data\\decks\\gpt\\IntiSeneschaloftheSun.txt\n"
     ]
    },
    {
     "name": "stderr",
     "output_type": "stream",
     "text": [
      " 43%|████▎     | 82/189 [2:41:50<31:27:09, 1058.22s/it]"
     ]
    },
    {
     "name": "stdout",
     "output_type": "stream",
     "text": [
      "{'overall': 6.511111111111111, 'cmc': 2.8125, 'ramp': 7, 'draw': 13, 'interaction': 16}\n",
      "c:\\Users\\theod\\edh-llm\\data\\decks\\gpt\\IroasGodofVictory.txt\n"
     ]
    },
    {
     "name": "stderr",
     "output_type": "stream",
     "text": [
      " 44%|████▍     | 83/189 [2:42:07<21:57:38, 745.83s/it] "
     ]
    },
    {
     "name": "stdout",
     "output_type": "stream",
     "text": [
      "{'overall': 1.95625, 'cmc': 3.0476190476190474, 'ramp': 1, 'draw': 1, 'interaction': 16}\n",
      "c:\\Users\\theod\\edh-llm\\data\\decks\\gpt\\IsutheAbominable.txt\n"
     ]
    },
    {
     "name": "stderr",
     "output_type": "stream",
     "text": [
      " 44%|████▍     | 84/189 [2:42:23<15:22:08, 526.93s/it]"
     ]
    },
    {
     "name": "stdout",
     "output_type": "stream",
     "text": [
      "{'overall': 11.304112554112555, 'cmc': 3.609375, 'ramp': 15, 'draw': 27, 'interaction': 5}\n",
      "c:\\Users\\theod\\edh-llm\\data\\decks\\gpt\\JasmineBorealoftheSeven.txt\n"
     ]
    },
    {
     "name": "stderr",
     "output_type": "stream",
     "text": [
      " 45%|████▍     | 85/189 [2:42:38<10:47:04, 373.31s/it]"
     ]
    },
    {
     "name": "stdout",
     "output_type": "stream",
     "text": [
      "{'overall': 6.246464646464646, 'cmc': 3.09375, 'ramp': 13, 'draw': 8, 'interaction': 7}\n",
      "c:\\Users\\theod\\edh-llm\\data\\decks\\gpt\\JazalGoldmane.txt\n"
     ]
    },
    {
     "name": "stderr",
     "output_type": "stream",
     "text": [
      " 46%|████▌     | 86/189 [2:43:16<7:48:09, 272.72s/it] "
     ]
    },
    {
     "name": "stdout",
     "output_type": "stream",
     "text": [
      "{'overall': 3.33681592039801, 'cmc': 3.140625, 'ramp': 6, 'draw': 4, 'interaction': 4}\n",
      "c:\\Users\\theod\\edh-llm\\data\\decks\\gpt\\JennyGeneratedAnomaly.txt\n"
     ]
    },
    {
     "name": "stderr",
     "output_type": "stream",
     "text": [
      " 46%|████▌     | 87/189 [2:43:56<5:44:39, 202.74s/it]"
     ]
    },
    {
     "name": "stdout",
     "output_type": "stream",
     "text": [
      "{'overall': 7.6899999999999995, 'cmc': 3.125, 'ramp': 9, 'draw': 17, 'interaction': 11}\n",
      "c:\\Users\\theod\\edh-llm\\data\\decks\\gpt\\JodahArchmageEternal.txt\n"
     ]
    },
    {
     "name": "stderr",
     "output_type": "stream",
     "text": [
      " 47%|████▋     | 88/189 [2:44:11<4:06:42, 146.56s/it]"
     ]
    },
    {
     "name": "stdout",
     "output_type": "stream",
     "text": [
      "{'overall': 7.791549295774648, 'cmc': 3.380952380952381, 'ramp': 9, 'draw': 19, 'interaction': 4}\n",
      "c:\\Users\\theod\\edh-llm\\data\\decks\\gpt\\JunjitheMidnightSky.txt\n"
     ]
    },
    {
     "name": "stderr",
     "output_type": "stream",
     "text": [
      " 47%|████▋     | 89/189 [2:44:26<2:58:22, 107.03s/it]"
     ]
    },
    {
     "name": "stdout",
     "output_type": "stream",
     "text": [
      "{'overall': 4.8028497409326425, 'cmc': 3.0634920634920637, 'ramp': 2, 'draw': 13, 'interaction': 8}\n",
      "c:\\Users\\theod\\edh-llm\\data\\decks\\gpt\\KalamaxtheStormsire.txt\n"
     ]
    },
    {
     "name": "stderr",
     "output_type": "stream",
     "text": [
      " 48%|████▊     | 90/189 [2:44:41<2:11:16, 79.56s/it] "
     ]
    },
    {
     "name": "stdout",
     "output_type": "stream",
     "text": [
      "{'overall': 9.440272373540855, 'cmc': 4.079365079365079, 'ramp': 13, 'draw': 21, 'interaction': 9}\n",
      "c:\\Users\\theod\\edh-llm\\data\\decks\\gpt\\KalemneDiscipleofIroas.txt\n"
     ]
    },
    {
     "name": "stderr",
     "output_type": "stream",
     "text": [
      " 48%|████▊     | 91/189 [2:44:57<1:38:35, 60.36s/it]"
     ]
    },
    {
     "name": "stdout",
     "output_type": "stream",
     "text": [
      "{'overall': 4.31244019138756, 'cmc': 3.265625, 'ramp': 4, 'draw': 8, 'interaction': 14}\n",
      "c:\\Users\\theod\\edh-llm\\data\\decks\\gpt\\KaradorGhostChieftain.txt\n"
     ]
    },
    {
     "name": "stderr",
     "output_type": "stream",
     "text": [
      " 49%|████▊     | 92/189 [2:45:12<1:15:24, 46.65s/it]"
     ]
    },
    {
     "name": "stdout",
     "output_type": "stream",
     "text": [
      "{'overall': 5.94468085106383, 'cmc': 3.671875, 'ramp': 7, 'draw': 14, 'interaction': 3}\n",
      "c:\\Users\\theod\\edh-llm\\data\\decks\\gpt\\KathrilAspectWarper.txt\n"
     ]
    },
    {
     "name": "stderr",
     "output_type": "stream",
     "text": [
      " 49%|████▉     | 93/189 [2:45:27<59:23, 37.12s/it]  "
     ]
    },
    {
     "name": "stdout",
     "output_type": "stream",
     "text": [
      "{'overall': 3.133663366336634, 'cmc': 3.15625, 'ramp': 6, 'draw': 3, 'interaction': 5}\n",
      "c:\\Users\\theod\\edh-llm\\data\\decks\\gpt\\KethekCrucibleGoliath.txt\n"
     ]
    },
    {
     "name": "stderr",
     "output_type": "stream",
     "text": [
      " 50%|████▉     | 94/189 [2:45:42<48:17, 30.50s/it]"
     ]
    },
    {
     "name": "stdout",
     "output_type": "stream",
     "text": [
      "{'overall': 5.67918552036199, 'cmc': 3.453125, 'ramp': 7, 'draw': 12, 'interaction': 7}\n",
      "c:\\Users\\theod\\edh-llm\\data\\decks\\gpt\\KillianInkDuelist.txt\n"
     ]
    },
    {
     "name": "stderr",
     "output_type": "stream",
     "text": [
      " 50%|█████     | 95/189 [2:45:56<40:07, 25.62s/it]"
     ]
    },
    {
     "name": "stdout",
     "output_type": "stream",
     "text": [
      "{'overall': 2.2566350710900474, 'cmc': 3.296875, 'ramp': 2, 'draw': 3, 'interaction': 8}\n",
      "c:\\Users\\theod\\edh-llm\\data\\decks\\gpt\\LaeliatheBladeReforged.txt\n"
     ]
    },
    {
     "name": "stderr",
     "output_type": "stream",
     "text": [
      " 51%|█████     | 96/189 [2:46:10<34:37, 22.34s/it]"
     ]
    },
    {
     "name": "stdout",
     "output_type": "stream",
     "text": [
      "{'overall': 8.170157068062828, 'cmc': 2.984375, 'ramp': 11, 'draw': 18, 'interaction': 5}\n",
      "c:\\Users\\theod\\edh-llm\\data\\decks\\gpt\\LathieltheBounteousDawn.txt\n"
     ]
    },
    {
     "name": "stderr",
     "output_type": "stream",
     "text": [
      " 51%|█████▏    | 97/189 [2:46:34<34:55, 22.78s/it]"
     ]
    },
    {
     "name": "stdout",
     "output_type": "stream",
     "text": [
      "{'overall': 4.6017241379310345, 'cmc': 3.625, 'ramp': 8, 'draw': 6, 'interaction': 11}\n",
      "c:\\Users\\theod\\edh-llm\\data\\decks\\gpt\\LegolasMasterArcher.txt\n"
     ]
    },
    {
     "name": "stderr",
     "output_type": "stream",
     "text": [
      " 52%|█████▏    | 98/189 [2:46:57<34:19, 22.63s/it]"
     ]
    },
    {
     "name": "stdout",
     "output_type": "stream",
     "text": [
      "{'overall': 6.023991031390135, 'cmc': 3.484375, 'ramp': 12, 'draw': 8, 'interaction': 9}\n",
      "c:\\Users\\theod\\edh-llm\\data\\decks\\gpt\\LierDiscipleoftheDrowned.txt\n"
     ]
    },
    {
     "name": "stderr",
     "output_type": "stream",
     "text": [
      " 52%|█████▏    | 99/189 [2:47:12<30:30, 20.33s/it]"
     ]
    },
    {
     "name": "stdout",
     "output_type": "stream",
     "text": [
      "{'overall': 8.887155963302753, 'cmc': 3.40625, 'ramp': 3, 'draw': 28, 'interaction': 11}\n",
      "c:\\Users\\theod\\edh-llm\\data\\decks\\gpt\\LieutenantKirtar.txt\n"
     ]
    },
    {
     "name": "stderr",
     "output_type": "stream",
     "text": [
      " 53%|█████▎    | 100/189 [2:47:31<29:36, 19.96s/it]"
     ]
    },
    {
     "name": "stdout",
     "output_type": "stream",
     "text": [
      "{'overall': 5.525757575757575, 'cmc': 2.578125, 'ramp': 7, 'draw': 9, 'interaction': 15}\n",
      "c:\\Users\\theod\\edh-llm\\data\\decks\\gpt\\LitaMechanicalEngineer.txt\n"
     ]
    },
    {
     "name": "stderr",
     "output_type": "stream",
     "text": [
      " 53%|█████▎    | 101/189 [2:47:47<27:39, 18.85s/it]"
     ]
    },
    {
     "name": "stdout",
     "output_type": "stream",
     "text": [
      "{'overall': 5.420157068062827, 'cmc': 2.984375, 'ramp': 11, 'draw': 6, 'interaction': 10}\n",
      "c:\\Users\\theod\\edh-llm\\data\\decks\\gpt\\LordMagnus.txt\n"
     ]
    },
    {
     "name": "stderr",
     "output_type": "stream",
     "text": [
      " 54%|█████▍    | 102/189 [2:48:04<26:36, 18.35s/it]"
     ]
    },
    {
     "name": "stdout",
     "output_type": "stream",
     "text": [
      "{'overall': 3.180541871921182, 'cmc': 3.171875, 'ramp': 6, 'draw': 2, 'interaction': 11}\n",
      "c:\\Users\\theod\\edh-llm\\data\\decks\\gpt\\LyraDawnbringer.txt\n"
     ]
    },
    {
     "name": "stderr",
     "output_type": "stream",
     "text": [
      " 54%|█████▍    | 103/189 [2:48:19<24:50, 17.34s/it]"
     ]
    },
    {
     "name": "stdout",
     "output_type": "stream",
     "text": [
      "{'overall': 2.4030612244897958, 'cmc': 3.0625, 'ramp': 4, 'draw': 2, 'interaction': 5}\n",
      "c:\\Users\\theod\\edh-llm\\data\\decks\\gpt\\MalcolmAlluringScoundrel.txt\n"
     ]
    },
    {
     "name": "stderr",
     "output_type": "stream",
     "text": [
      " 55%|█████▌    | 104/189 [2:48:33<23:15, 16.42s/it]"
     ]
    },
    {
     "name": "stdout",
     "output_type": "stream",
     "text": [
      "{'overall': 9.192592592592591, 'cmc': 3.375, 'ramp': 5, 'draw': 28, 'interaction': 7}\n",
      "c:\\Users\\theod\\edh-llm\\data\\decks\\gpt\\MaralenoftheMornsong.txt\n"
     ]
    },
    {
     "name": "stderr",
     "output_type": "stream",
     "text": [
      " 56%|█████▌    | 105/189 [2:48:48<22:11, 15.85s/it]"
     ]
    },
    {
     "name": "stdout",
     "output_type": "stream",
     "text": [
      "{'overall': 5.568357487922706, 'cmc': 3.234375, 'ramp': 5, 'draw': 13, 'interaction': 9}\n",
      "c:\\Users\\theod\\edh-llm\\data\\decks\\gpt\\MarneusCalgar.txt\n"
     ]
    },
    {
     "name": "stderr",
     "output_type": "stream",
     "text": [
      " 56%|█████▌    | 106/189 [2:49:23<29:44, 21.49s/it]"
     ]
    },
    {
     "name": "stdout",
     "output_type": "stream",
     "text": [
      "{'overall': 4.074074074074074, 'cmc': 3.4838709677419355, 'ramp': 5, 'draw': 8, 'interaction': 5}\n",
      "c:\\Users\\theod\\edh-llm\\data\\decks\\gpt\\MasakotheHumorless.txt\n"
     ]
    },
    {
     "name": "stderr",
     "output_type": "stream",
     "text": [
      " 57%|█████▋    | 107/189 [2:49:38<27:03, 19.80s/it]"
     ]
    },
    {
     "name": "stdout",
     "output_type": "stream",
     "text": [
      "{'overall': 3.646153846153846, 'cmc': 3.0952380952380953, 'ramp': 7, 'draw': 4, 'interaction': 5}\n",
      "c:\\Users\\theod\\edh-llm\\data\\decks\\gpt\\MayaeltheAnima.txt\n"
     ]
    },
    {
     "name": "stderr",
     "output_type": "stream",
     "text": [
      " 57%|█████▋    | 108/189 [2:50:13<32:42, 24.23s/it]"
     ]
    },
    {
     "name": "stdout",
     "output_type": "stream",
     "text": [
      "{'overall': 12.96888888888889, 'cmc': 3.515625, 'ramp': 22, 'draw': 27, 'interaction': 3}\n",
      "c:\\Users\\theod\\edh-llm\\data\\decks\\gpt\\MerryEsquireofRohan.txt\n"
     ]
    },
    {
     "name": "stderr",
     "output_type": "stream",
     "text": [
      " 58%|█████▊    | 109/189 [2:50:29<29:02, 21.78s/it]"
     ]
    },
    {
     "name": "stdout",
     "output_type": "stream",
     "text": [
      "{'overall': 3.3844748858447486, 'cmc': 3.421875, 'ramp': 1, 'draw': 8, 'interaction': 11}\n",
      "c:\\Users\\theod\\edh-llm\\data\\decks\\gpt\\MiirymSentinelWyrm.txt\n"
     ]
    },
    {
     "name": "stderr",
     "output_type": "stream",
     "text": [
      " 58%|█████▊    | 110/189 [2:50:44<25:51, 19.64s/it]"
     ]
    },
    {
     "name": "stdout",
     "output_type": "stream",
     "text": [
      "{'overall': 4.333333333333333, 'cmc': 3.75, 'ramp': 6, 'draw': 8, 'interaction': 6}\n",
      "c:\\Users\\theod\\edh-llm\\data\\decks\\gpt\\MintharaMercilessSoul.txt\n"
     ]
    },
    {
     "name": "stderr",
     "output_type": "stream",
     "text": [
      " 59%|█████▊    | 111/189 [2:51:01<24:47, 19.06s/it]"
     ]
    },
    {
     "name": "stdout",
     "output_type": "stream",
     "text": [
      "{'overall': 3.573762376237624, 'cmc': 3.2063492063492065, 'ramp': 6, 'draw': 4, 'interaction': 9}\n",
      "c:\\Users\\theod\\edh-llm\\data\\decks\\gpt\\MuzzioVisionaryArchitect.txt\n"
     ]
    },
    {
     "name": "stderr",
     "output_type": "stream",
     "text": [
      " 59%|█████▉    | 112/189 [2:51:16<22:42, 17.70s/it]"
     ]
    },
    {
     "name": "stdout",
     "output_type": "stream",
     "text": [
      "{'overall': 9.892372881355932, 'cmc': 3.6875, 'ramp': 6, 'draw': 29, 'interaction': 12}\n",
      "c:\\Users\\theod\\edh-llm\\data\\decks\\gpt\\MyojinofCrypticDreams.txt\n"
     ]
    },
    {
     "name": "stderr",
     "output_type": "stream",
     "text": [
      " 60%|█████▉    | 113/189 [2:51:31<21:24, 16.90s/it]"
     ]
    },
    {
     "name": "stdout",
     "output_type": "stream",
     "text": [
      "{'overall': 4.56140350877193, 'cmc': 3.5625, 'ramp': 4, 'draw': 10, 'interaction': 10}\n",
      "c:\\Users\\theod\\edh-llm\\data\\decks\\gpt\\MyrkulLordofBones.txt\n"
     ]
    },
    {
     "name": "stderr",
     "output_type": "stream",
     "text": [
      " 60%|██████    | 114/189 [2:51:45<20:14, 16.19s/it]"
     ]
    },
    {
     "name": "stdout",
     "output_type": "stream",
     "text": [
      "{'overall': 6.404112554112554, 'cmc': 3.609375, 'ramp': 8, 'draw': 13, 'interaction': 12}\n",
      "c:\\Users\\theod\\edh-llm\\data\\decks\\gpt\\NefaroxOverlordofGrixis.txt\n"
     ]
    },
    {
     "name": "stderr",
     "output_type": "stream",
     "text": [
      " 61%|██████    | 115/189 [2:52:00<19:20, 15.69s/it]"
     ]
    },
    {
     "name": "stdout",
     "output_type": "stream",
     "text": [
      "{'overall': 2.4844919786096256, 'cmc': 2.921875, 'ramp': 4, 'draw': 1, 'interaction': 11}\n",
      "c:\\Users\\theod\\edh-llm\\data\\decks\\gpt\\NehebtheWorthy.txt\n"
     ]
    },
    {
     "name": "stderr",
     "output_type": "stream",
     "text": [
      " 61%|██████▏   | 116/189 [2:52:14<18:36, 15.30s/it]"
     ]
    },
    {
     "name": "stdout",
     "output_type": "stream",
     "text": [
      "{'overall': 6.489999999999999, 'cmc': 3.125, 'ramp': 7, 'draw': 13, 'interaction': 17}\n",
      "c:\\Users\\theod\\edh-llm\\data\\decks\\gpt\\NethroiApexofDeath.txt\n"
     ]
    },
    {
     "name": "stderr",
     "output_type": "stream",
     "text": [
      " 62%|██████▏   | 117/189 [2:52:29<18:11, 15.16s/it]"
     ]
    },
    {
     "name": "stdout",
     "output_type": "stream",
     "text": [
      "{'overall': 7.342372881355932, 'cmc': 3.6875, 'ramp': 8, 'draw': 17, 'interaction': 11}\n",
      "c:\\Users\\theod\\edh-llm\\data\\decks\\gpt\\NicanzilCurrentConductor.txt\n"
     ]
    },
    {
     "name": "stderr",
     "output_type": "stream",
     "text": [
      " 62%|██████▏   | 118/189 [2:52:44<17:45, 15.00s/it]"
     ]
    },
    {
     "name": "stdout",
     "output_type": "stream",
     "text": [
      "{'overall': 12.229185520361991, 'cmc': 3.453125, 'ramp': 20, 'draw': 26, 'interaction': 3}\n",
      "c:\\Users\\theod\\edh-llm\\data\\decks\\gpt\\NivMizzetSupreme.txt\n"
     ]
    },
    {
     "name": "stderr",
     "output_type": "stream",
     "text": [
      " 63%|██████▎   | 119/189 [2:52:58<17:18, 14.84s/it]"
     ]
    },
    {
     "name": "stdout",
     "output_type": "stream",
     "text": [
      "{'overall': 11.133333333333333, 'cmc': 3.75, 'ramp': 12, 'draw': 29, 'interaction': 7}\n",
      "c:\\Users\\theod\\edh-llm\\data\\decks\\gpt\\OboshthePreypiercer.txt\n"
     ]
    },
    {
     "name": "stderr",
     "output_type": "stream",
     "text": [
      " 63%|██████▎   | 120/189 [2:53:13<17:06, 14.87s/it]"
     ]
    },
    {
     "name": "stdout",
     "output_type": "stream",
     "text": [
      "{'overall': 6.949746192893401, 'cmc': 3.078125, 'ramp': 9, 'draw': 13, 'interaction': 16}\n",
      "c:\\Users\\theod\\edh-llm\\data\\decks\\gpt\\ObyraDreamingDuelist.txt\n"
     ]
    },
    {
     "name": "stderr",
     "output_type": "stream",
     "text": [
      " 64%|██████▍   | 121/189 [2:53:28<16:44, 14.78s/it]"
     ]
    },
    {
     "name": "stdout",
     "output_type": "stream",
     "text": [
      "{'overall': 3.7993562231759657, 'cmc': 3.640625, 'ramp': 3, 'draw': 8, 'interaction': 10}\n",
      "c:\\Users\\theod\\edh-llm\\data\\decks\\gpt\\OdricLunarchMarshal.txt\n"
     ]
    },
    {
     "name": "stderr",
     "output_type": "stream",
     "text": [
      " 65%|██████▍   | 122/189 [2:53:43<16:34, 14.85s/it]"
     ]
    },
    {
     "name": "stdout",
     "output_type": "stream",
     "text": [
      "{'overall': 3.2595238095238095, 'cmc': 3.28125, 'ramp': 5, 'draw': 5, 'interaction': 3}\n",
      "c:\\Users\\theod\\edh-llm\\data\\decks\\gpt\\OldOneEye.txt\n"
     ]
    },
    {
     "name": "stderr",
     "output_type": "stream",
     "text": [
      " 65%|██████▌   | 123/189 [2:53:58<16:17, 14.81s/it]"
     ]
    },
    {
     "name": "stdout",
     "output_type": "stream",
     "text": [
      "{'overall': 8.276748971193415, 'cmc': 3.796875, 'ramp': 13, 'draw': 17, 'interaction': 5}\n",
      "c:\\Users\\theod\\edh-llm\\data\\decks\\gpt\\OmnathLocusofAll.txt\n"
     ]
    },
    {
     "name": "stderr",
     "output_type": "stream",
     "text": [
      " 66%|██████▌   | 124/189 [2:54:12<16:00, 14.78s/it]"
     ]
    },
    {
     "name": "stdout",
     "output_type": "stream",
     "text": [
      "{'overall': 13.25093896713615, 'cmc': 3.328125, 'ramp': 20, 'draw': 30, 'interaction': 3}\n",
      "c:\\Users\\theod\\edh-llm\\data\\decks\\gpt\\OrcusPrinceofUndeath.txt\n"
     ]
    },
    {
     "name": "stderr",
     "output_type": "stream",
     "text": [
      " 66%|██████▌   | 125/189 [2:54:27<15:46, 14.78s/it]"
     ]
    },
    {
     "name": "stdout",
     "output_type": "stream",
     "text": [
      "{'overall': 4.227196652719665, 'cmc': 3.7936507936507935, 'ramp': 1, 'draw': 11, 'interaction': 14}\n",
      "c:\\Users\\theod\\edh-llm\\data\\decks\\gpt\\OrmosArchiveKeeper.txt\n"
     ]
    },
    {
     "name": "stderr",
     "output_type": "stream",
     "text": [
      " 67%|██████▋   | 126/189 [2:54:42<15:26, 14.71s/it]"
     ]
    },
    {
     "name": "stdout",
     "output_type": "stream",
     "text": [
      "{'overall': 11.023991031390134, 'cmc': 3.484375, 'ramp': 4, 'draw': 37, 'interaction': 4}\n",
      "c:\\Users\\theod\\edh-llm\\data\\decks\\gpt\\OrvartheAllForm.txt\n"
     ]
    },
    {
     "name": "stderr",
     "output_type": "stream",
     "text": [
      " 67%|██████▋   | 127/189 [2:54:56<15:12, 14.71s/it]"
     ]
    },
    {
     "name": "stdout",
     "output_type": "stream",
     "text": [
      "{'overall': 5.823991031390134, 'cmc': 3.484375, 'ramp': 3, 'draw': 16, 'interaction': 10}\n",
      "c:\\Users\\theod\\edh-llm\\data\\decks\\gpt\\OswaldFiddlebender.txt\n"
     ]
    },
    {
     "name": "stderr",
     "output_type": "stream",
     "text": [
      " 68%|██████▊   | 128/189 [2:55:34<22:03, 21.70s/it]"
     ]
    },
    {
     "name": "stdout",
     "output_type": "stream",
     "text": [
      "{'overall': 8.720157068062829, 'cmc': 2.984375, 'ramp': 13, 'draw': 18, 'interaction': 6}\n",
      "c:\\Users\\theod\\edh-llm\\data\\decks\\gpt\\PhenaxGodofDeception.txt\n"
     ]
    },
    {
     "name": "stderr",
     "output_type": "stream",
     "text": [
      " 68%|██████▊   | 129/189 [2:55:49<19:42, 19.71s/it]"
     ]
    },
    {
     "name": "stdout",
     "output_type": "stream",
     "text": [
      "{'overall': 3.5500000000000003, 'cmc': 3.3333333333333335, 'ramp': 3, 'draw': 7, 'interaction': 9}\n",
      "c:\\Users\\theod\\edh-llm\\data\\decks\\gpt\\PiaNalaar.txt\n"
     ]
    },
    {
     "name": "stderr",
     "output_type": "stream",
     "text": [
      " 69%|██████▉   | 130/189 [2:56:04<17:52, 18.17s/it]"
     ]
    },
    {
     "name": "stdout",
     "output_type": "stream",
     "text": [
      "{'overall': 4.7398843930635834, 'cmc': 2.703125, 'ramp': 6, 'draw': 7, 'interaction': 15}\n",
      "c:\\Users\\theod\\edh-llm\\data\\decks\\gpt\\PippinWardenofIsengard.txt\n"
     ]
    },
    {
     "name": "stderr",
     "output_type": "stream",
     "text": [
      " 69%|██████▉   | 131/189 [2:56:19<16:35, 17.16s/it]"
     ]
    },
    {
     "name": "stdout",
     "output_type": "stream",
     "text": [
      "{'overall': 6.2214285714285715, 'cmc': 3.5, 'ramp': 11, 'draw': 10, 'interaction': 8}\n",
      "c:\\Users\\theod\\edh-llm\\data\\decks\\gpt\\QueenAllenalofRuadach.txt\n"
     ]
    },
    {
     "name": "stderr",
     "output_type": "stream",
     "text": [
      " 70%|██████▉   | 132/189 [2:56:34<15:37, 16.45s/it]"
     ]
    },
    {
     "name": "stdout",
     "output_type": "stream",
     "text": [
      "{'overall': 5.3589519650655015, 'cmc': 3.578125, 'ramp': 8, 'draw': 9, 'interaction': 11}\n",
      "c:\\Users\\theod\\edh-llm\\data\\decks\\gpt\\RaffWeatherlightStalwart.txt\n"
     ]
    },
    {
     "name": "stderr",
     "output_type": "stream",
     "text": [
      " 70%|███████   | 133/189 [2:56:48<14:45, 15.82s/it]"
     ]
    },
    {
     "name": "stdout",
     "output_type": "stream",
     "text": [
      "{'overall': 5.130541871921182, 'cmc': 3.171875, 'ramp': 5, 'draw': 11, 'interaction': 10}\n",
      "c:\\Users\\theod\\edh-llm\\data\\decks\\gpt\\RakkaMar.txt\n"
     ]
    },
    {
     "name": "stderr",
     "output_type": "stream",
     "text": [
      " 71%|███████   | 134/189 [2:57:03<14:12, 15.49s/it]"
     ]
    },
    {
     "name": "stdout",
     "output_type": "stream",
     "text": [
      "{'overall': 3.5605095541401273, 'cmc': 3.5681818181818183, 'ramp': 7, 'draw': 2, 'interaction': 15}\n",
      "c:\\Users\\theod\\edh-llm\\data\\decks\\gpt\\RamsesOverdark.txt\n"
     ]
    },
    {
     "name": "stderr",
     "output_type": "stream",
     "text": [
      " 71%|███████▏  | 135/189 [2:57:40<19:48, 22.00s/it]"
     ]
    },
    {
     "name": "stdout",
     "output_type": "stream",
     "text": [
      "{'overall': 3.65377358490566, 'cmc': 3.3125, 'ramp': 3, 'draw': 7, 'interaction': 11}\n",
      "c:\\Users\\theod\\edh-llm\\data\\decks\\gpt\\RanartheEverWatchful.txt\n"
     ]
    },
    {
     "name": "stderr",
     "output_type": "stream",
     "text": [
      " 72%|███████▏  | 136/189 [2:57:54<17:26, 19.75s/it]"
     ]
    },
    {
     "name": "stdout",
     "output_type": "stream",
     "text": [
      "{'overall': 6.3517241379310345, 'cmc': 3.625, 'ramp': 7, 'draw': 14, 'interaction': 11}\n",
      "c:\\Users\\theod\\edh-llm\\data\\decks\\gpt\\RebbecArchitectofAscension.txt\n"
     ]
    },
    {
     "name": "stderr",
     "output_type": "stream",
     "text": [
      " 72%|███████▏  | 137/189 [2:58:09<15:49, 18.25s/it]"
     ]
    },
    {
     "name": "stdout",
     "output_type": "stream",
     "text": [
      "{'overall': 6.530851063829787, 'cmc': 2.9375, 'ramp': 10, 'draw': 11, 'interaction': 12}\n",
      "c:\\Users\\theod\\edh-llm\\data\\decks\\gpt\\RegnatheRedeemer.txt\n"
     ]
    },
    {
     "name": "stderr",
     "output_type": "stream",
     "text": [
      " 73%|███████▎  | 138/189 [2:58:24<14:33, 17.14s/it]"
     ]
    },
    {
     "name": "stdout",
     "output_type": "stream",
     "text": [
      "{'overall': 6.885564853556485, 'cmc': 3.734375, 'ramp': 6, 'draw': 18, 'interaction': 7}\n",
      "c:\\Users\\theod\\edh-llm\\data\\decks\\gpt\\RishkarPeemaRenegade.txt\n"
     ]
    },
    {
     "name": "stderr",
     "output_type": "stream",
     "text": [
      " 74%|███████▎  | 139/189 [2:58:39<13:44, 16.50s/it]"
     ]
    },
    {
     "name": "stdout",
     "output_type": "stream",
     "text": [
      "{'overall': 7.155769230769231, 'cmc': 3.3015873015873014, 'ramp': 13, 'draw': 12, 'interaction': 6}\n",
      "c:\\Users\\theod\\edh-llm\\data\\decks\\gpt\\RoseTyler.txt\n"
     ]
    },
    {
     "name": "stderr",
     "output_type": "stream",
     "text": [
      " 74%|███████▍  | 140/189 [2:58:54<13:10, 16.13s/it]"
     ]
    },
    {
     "name": "stdout",
     "output_type": "stream",
     "text": [
      "{'overall': 5.761111111111111, 'cmc': 2.8125, 'ramp': 8, 'draw': 11, 'interaction': 6}\n",
      "c:\\Users\\theod\\edh-llm\\data\\decks\\gpt\\SaheelitheSunsBrilliance.txt\n"
     ]
    },
    {
     "name": "stderr",
     "output_type": "stream",
     "text": [
      " 75%|███████▍  | 141/189 [2:59:32<18:07, 22.65s/it]"
     ]
    },
    {
     "name": "stdout",
     "output_type": "stream",
     "text": [
      "{'overall': 5.599746192893401, 'cmc': 3.078125, 'ramp': 5, 'draw': 12, 'interaction': 14}\n",
      "c:\\Users\\theod\\edh-llm\\data\\decks\\gpt\\SaintTraftandRemKarolus.txt\n"
     ]
    },
    {
     "name": "stderr",
     "output_type": "stream",
     "text": [
      " 75%|███████▌  | 142/189 [2:59:46<15:52, 20.26s/it]"
     ]
    },
    {
     "name": "stdout",
     "output_type": "stream",
     "text": [
      "{'overall': 4.541549295774648, 'cmc': 3.380952380952381, 'ramp': 5, 'draw': 9, 'interaction': 9}\n",
      "c:\\Users\\theod\\edh-llm\\data\\decks\\gpt\\SamwisetheStouthearted.txt\n"
     ]
    },
    {
     "name": "stderr",
     "output_type": "stream",
     "text": [
      " 76%|███████▌  | 143/189 [3:00:01<14:18, 18.67s/it]"
     ]
    },
    {
     "name": "stdout",
     "output_type": "stream",
     "text": [
      "{'overall': 8.216666666666667, 'cmc': 3.0, 'ramp': 16, 'draw': 12, 'interaction': 11}\n",
      "c:\\Users\\theod\\edh-llm\\data\\decks\\gpt\\SaryththeVipersFang.txt\n"
     ]
    },
    {
     "name": "stderr",
     "output_type": "stream",
     "text": [
      " 76%|███████▌  | 144/189 [3:00:16<13:07, 17.50s/it]"
     ]
    },
    {
     "name": "stdout",
     "output_type": "stream",
     "text": [
      "{'overall': 4.4368159203980095, 'cmc': 3.140625, 'ramp': 8, 'draw': 5, 'interaction': 11}\n",
      "c:\\Users\\theod\\edh-llm\\data\\decks\\gpt\\SetonKrosanProtector.txt\n"
     ]
    },
    {
     "name": "stderr",
     "output_type": "stream",
     "text": [
      " 77%|███████▋  | 145/189 [3:00:31<12:09, 16.57s/it]"
     ]
    },
    {
     "name": "stdout",
     "output_type": "stream",
     "text": [
      "{'overall': 6.465083798882682, 'cmc': 2.796875, 'ramp': 14, 'draw': 8, 'interaction': 5}\n",
      "c:\\Users\\theod\\edh-llm\\data\\decks\\gpt\\ShadowfaxLordofHorses.txt\n"
     ]
    },
    {
     "name": "stderr",
     "output_type": "stream",
     "text": [
      " 77%|███████▋  | 146/189 [3:00:45<11:25, 15.95s/it]"
     ]
    },
    {
     "name": "stdout",
     "output_type": "stream",
     "text": [
      "{'overall': 5.46140350877193, 'cmc': 3.5625, 'ramp': 10, 'draw': 6, 'interaction': 18}\n",
      "c:\\Users\\theod\\edh-llm\\data\\decks\\gpt\\SharuumtheHegemon.txt\n"
     ]
    },
    {
     "name": "stderr",
     "output_type": "stream",
     "text": [
      " 78%|███████▊  | 147/189 [3:01:00<10:52, 15.54s/it]"
     ]
    },
    {
     "name": "stdout",
     "output_type": "stream",
     "text": [
      "{'overall': 6.445348837209302, 'cmc': 3.359375, 'ramp': 3, 'draw': 19, 'interaction': 7}\n",
      "c:\\Users\\theod\\edh-llm\\data\\decks\\gpt\\ShorikaiGenesisEngine.txt\n"
     ]
    },
    {
     "name": "stderr",
     "output_type": "stream",
     "text": [
      " 78%|███████▊  | 148/189 [3:01:14<10:25, 15.27s/it]"
     ]
    },
    {
     "name": "stdout",
     "output_type": "stream",
     "text": [
      "{'overall': 6.518357487922706, 'cmc': 3.234375, 'ramp': 5, 'draw': 16, 'interaction': 13}\n",
      "c:\\Users\\theod\\edh-llm\\data\\decks\\gpt\\SigridGodFavored.txt\n"
     ]
    },
    {
     "name": "stderr",
     "output_type": "stream",
     "text": [
      " 79%|███████▉  | 149/189 [3:01:29<10:04, 15.12s/it]"
     ]
    },
    {
     "name": "stdout",
     "output_type": "stream",
     "text": [
      "{'overall': 4.024390243902439, 'cmc': 3.203125, 'ramp': 7, 'draw': 5, 'interaction': 8}\n",
      "c:\\Users\\theod\\edh-llm\\data\\decks\\gpt\\SilasRennSeekerAdept.txt\n"
     ]
    },
    {
     "name": "stderr",
     "output_type": "stream",
     "text": [
      " 79%|███████▉  | 150/189 [3:01:44<09:42, 14.93s/it]"
     ]
    },
    {
     "name": "stdout",
     "output_type": "stream",
     "text": [
      "{'overall': 5.9, 'cmc': 4.0, 'ramp': 2, 'draw': 18, 'interaction': 8}\n",
      "c:\\Users\\theod\\edh-llm\\data\\decks\\gpt\\SkanosDragonheart.txt\n"
     ]
    },
    {
     "name": "stderr",
     "output_type": "stream",
     "text": [
      " 80%|███████▉  | 151/189 [3:01:58<09:27, 14.93s/it]"
     ]
    },
    {
     "name": "stdout",
     "output_type": "stream",
     "text": [
      "{'overall': 5.433165829145729, 'cmc': 3.1587301587301586, 'ramp': 6, 'draw': 12, 'interaction': 6}\n",
      "c:\\Users\\theod\\edh-llm\\data\\decks\\gpt\\SliverLegion.txt\n"
     ]
    },
    {
     "name": "stderr",
     "output_type": "stream",
     "text": [
      " 80%|████████  | 152/189 [3:02:36<13:22, 21.68s/it]"
     ]
    },
    {
     "name": "stdout",
     "output_type": "stream",
     "text": [
      "{'overall': 2.7065217391304346, 'cmc': 3.59375, 'ramp': 4, 'draw': 3, 'interaction': 8}\n",
      "c:\\Users\\theod\\edh-llm\\data\\decks\\gpt\\SlurrkAllIngesting.txt\n"
     ]
    },
    {
     "name": "stderr",
     "output_type": "stream",
     "text": [
      " 81%|████████  | 153/189 [3:02:51<11:52, 19.78s/it]"
     ]
    },
    {
     "name": "stdout",
     "output_type": "stream",
     "text": [
      "{'overall': 7.929400749063671, 'cmc': 4.171875, 'ramp': 13, 'draw': 15, 'interaction': 9}\n",
      "c:\\Users\\theod\\edh-llm\\data\\decks\\gpt\\SophinaSpearsageDeserter.txt\n"
     ]
    },
    {
     "name": "stderr",
     "output_type": "stream",
     "text": [
      " 81%|████████▏ | 154/189 [3:03:07<10:46, 18.46s/it]"
     ]
    },
    {
     "name": "stdout",
     "output_type": "stream",
     "text": [
      "{'overall': 6.518357487922706, 'cmc': 3.234375, 'ramp': 6, 'draw': 15, 'interaction': 13}\n",
      "c:\\Users\\theod\\edh-llm\\data\\decks\\gpt\\SosukeSonofSeshiro.txt\n"
     ]
    },
    {
     "name": "stderr",
     "output_type": "stream",
     "text": [
      " 82%|████████▏ | 155/189 [3:03:21<09:49, 17.35s/it]"
     ]
    },
    {
     "name": "stdout",
     "output_type": "stream",
     "text": [
      "{'overall': 3.702870813397129, 'cmc': 3.3174603174603177, 'ramp': 8, 'draw': 3, 'interaction': 7}\n",
      "c:\\Users\\theod\\edh-llm\\data\\decks\\gpt\\TaboraxHopesDemise.txt\n"
     ]
    },
    {
     "name": "stderr",
     "output_type": "stream",
     "text": [
      " 83%|████████▎ | 156/189 [3:03:36<09:09, 16.64s/it]"
     ]
    },
    {
     "name": "stdout",
     "output_type": "stream",
     "text": [
      "{'overall': 5.618357487922705, 'cmc': 3.234375, 'ramp': 7, 'draw': 9, 'interaction': 20}\n",
      "c:\\Users\\theod\\edh-llm\\data\\decks\\gpt\\TajicBladeoftheLegion.txt\n"
     ]
    },
    {
     "name": "stderr",
     "output_type": "stream",
     "text": [
      " 83%|████████▎ | 157/189 [3:03:51<08:33, 16.04s/it]"
     ]
    },
    {
     "name": "stdout",
     "output_type": "stream",
     "text": [
      "{'overall': 1.8509389671361502, 'cmc': 3.328125, 'ramp': 1, 'draw': 2, 'interaction': 10}\n",
      "c:\\Users\\theod\\edh-llm\\data\\decks\\gpt\\TawnosUrzasApprentice.txt\n"
     ]
    },
    {
     "name": "stderr",
     "output_type": "stream",
     "text": [
      " 84%|████████▎ | 158/189 [3:04:17<09:54, 19.17s/it]"
     ]
    },
    {
     "name": "stdout",
     "output_type": "stream",
     "text": [
      "{'overall': 5.280541871921183, 'cmc': 3.171875, 'ramp': 7, 'draw': 9, 'interaction': 13}\n",
      "c:\\Users\\theod\\edh-llm\\data\\decks\\gpt\\TeferiTemporalArchmage.txt\n"
     ]
    },
    {
     "name": "stderr",
     "output_type": "stream",
     "text": [
      " 84%|████████▍ | 159/189 [3:04:33<08:58, 17.96s/it]"
     ]
    },
    {
     "name": "stdout",
     "output_type": "stream",
     "text": [
      "{'overall': 7.918401486988848, 'cmc': 4.26984126984127, 'ramp': 6, 'draw': 22, 'interaction': 9}\n",
      "c:\\Users\\theod\\edh-llm\\data\\decks\\gpt\\TegwyllDukeofSplendor.txt\n"
     ]
    },
    {
     "name": "stderr",
     "output_type": "stream",
     "text": [
      " 85%|████████▍ | 160/189 [3:04:47<08:14, 17.04s/it]"
     ]
    },
    {
     "name": "stdout",
     "output_type": "stream",
     "text": [
      "{'overall': 4.558951965065502, 'cmc': 3.578125, 'ramp': 3, 'draw': 12, 'interaction': 5}\n",
      "c:\\Users\\theod\\edh-llm\\data\\decks\\gpt\\TekuthalInquiryDominus.txt\n"
     ]
    },
    {
     "name": "stderr",
     "output_type": "stream",
     "text": [
      " 85%|████████▌ | 161/189 [3:05:03<07:42, 16.53s/it]"
     ]
    },
    {
     "name": "stdout",
     "output_type": "stream",
     "text": [
      "{'overall': 6.956635071090047, 'cmc': 3.296875, 'ramp': 5, 'draw': 18, 'interaction': 12}\n",
      "c:\\Users\\theod\\edh-llm\\data\\decks\\gpt\\TemmetVizierofNaktamun.txt\n"
     ]
    },
    {
     "name": "stderr",
     "output_type": "stream",
     "text": [
      " 86%|████████▌ | 162/189 [3:05:17<07:10, 15.96s/it]"
     ]
    },
    {
     "name": "stdout",
     "output_type": "stream",
     "text": [
      "{'overall': 4.966915422885572, 'cmc': 3.2419354838709675, 'ramp': 3, 'draw': 13, 'interaction': 7}\n",
      "c:\\Users\\theod\\edh-llm\\data\\decks\\gpt\\TetsuoImperialChampion.txt\n"
     ]
    },
    {
     "name": "stderr",
     "output_type": "stream",
     "text": [
      " 86%|████████▌ | 163/189 [3:05:32<06:42, 15.49s/it]"
     ]
    },
    {
     "name": "stdout",
     "output_type": "stream",
     "text": [
      "{'overall': 6.740084388185654, 'cmc': 3.703125, 'ramp': 3, 'draw': 19, 'interaction': 14}\n",
      "c:\\Users\\theod\\edh-llm\\data\\decks\\gpt\\TeveshSzatDoomofFools.txt\n"
     ]
    },
    {
     "name": "stderr",
     "output_type": "stream",
     "text": [
      " 87%|████████▋ | 164/189 [3:05:47<06:25, 15.42s/it]"
     ]
    },
    {
     "name": "stdout",
     "output_type": "stream",
     "text": [
      "{'overall': 6.327248677248678, 'cmc': 2.953125, 'ramp': 7, 'draw': 13, 'interaction': 13}\n",
      "c:\\Users\\theod\\edh-llm\\data\\decks\\gpt\\TheEverChangingDane.txt\n"
     ]
    },
    {
     "name": "stderr",
     "output_type": "stream",
     "text": [
      " 87%|████████▋ | 165/189 [3:06:02<06:02, 15.11s/it]"
     ]
    },
    {
     "name": "stdout",
     "output_type": "stream",
     "text": [
      "{'overall': 4.383663366336634, 'cmc': 3.15625, 'ramp': 5, 'draw': 8, 'interaction': 10}\n",
      "c:\\Users\\theod\\edh-llm\\data\\decks\\gpt\\TheFifthDoctor.txt\n"
     ]
    },
    {
     "name": "stderr",
     "output_type": "stream",
     "text": [
      " 88%|████████▊ | 166/189 [3:06:16<05:43, 14.96s/it]"
     ]
    },
    {
     "name": "stdout",
     "output_type": "stream",
     "text": [
      "{'overall': 2.0066350710900474, 'cmc': 3.296875, 'ramp': 1, 'draw': 3, 'interaction': 8}\n",
      "c:\\Users\\theod\\edh-llm\\data\\decks\\gpt\\TheFugitiveDoctor.txt\n"
     ]
    },
    {
     "name": "stderr",
     "output_type": "stream",
     "text": [
      " 88%|████████▊ | 167/189 [3:06:29<05:15, 14.34s/it]"
     ]
    },
    {
     "name": "stdout",
     "output_type": "stream",
     "text": [
      "{'overall': 7.171428571428571, 'cmc': 3.5, 'ramp': 11, 'draw': 14, 'interaction': 7}\n",
      "c:\\Users\\theod\\edh-llm\\data\\decks\\gpt\\TheMasterMultiplied.txt\n"
     ]
    },
    {
     "name": "stderr",
     "output_type": "stream",
     "text": [
      " 89%|████████▉ | 168/189 [3:06:44<05:05, 14.55s/it]"
     ]
    },
    {
     "name": "stdout",
     "output_type": "stream",
     "text": [
      "{'overall': 2.6064102564102565, 'cmc': 3.046875, 'ramp': 3, 'draw': 3, 'interaction': 9}\n",
      "c:\\Users\\theod\\edh-llm\\data\\decks\\gpt\\TheTenthDoctor.txt\n"
     ]
    },
    {
     "name": "stderr",
     "output_type": "stream",
     "text": [
      " 89%|████████▉ | 169/189 [3:07:00<04:56, 14.82s/it]"
     ]
    },
    {
     "name": "stdout",
     "output_type": "stream",
     "text": [
      "{'overall': 8.96140350877193, 'cmc': 3.5625, 'ramp': 4, 'draw': 27, 'interaction': 13}\n",
      "c:\\Users\\theod\\edh-llm\\data\\decks\\gpt\\ThrastaTempestsRoar.txt\n"
     ]
    },
    {
     "name": "stderr",
     "output_type": "stream",
     "text": [
      " 90%|████████▉ | 170/189 [3:07:15<04:43, 14.90s/it]"
     ]
    },
    {
     "name": "stdout",
     "output_type": "stream",
     "text": [
      "{'overall': 5.8175675675675675, 'cmc': 3.5238095238095237, 'ramp': 9, 'draw': 10, 'interaction': 10}\n",
      "c:\\Users\\theod\\edh-llm\\data\\decks\\gpt\\ThrissNantukoPrimus.txt\n"
     ]
    },
    {
     "name": "stderr",
     "output_type": "stream",
     "text": [
      " 90%|█████████ | 171/189 [3:07:29<04:27, 14.87s/it]"
     ]
    },
    {
     "name": "stdout",
     "output_type": "stream",
     "text": [
      "{'overall': 4.688172043010753, 'cmc': 2.90625, 'ramp': 8, 'draw': 6, 'interaction': 10}\n",
      "c:\\Users\\theod\\edh-llm\\data\\decks\\gpt\\ThruntheLastTroll.txt\n"
     ]
    },
    {
     "name": "stderr",
     "output_type": "stream",
     "text": [
      " 91%|█████████ | 172/189 [3:07:44<04:11, 14.78s/it]"
     ]
    },
    {
     "name": "stdout",
     "output_type": "stream",
     "text": [
      "{'overall': 6.584491978609626, 'cmc': 2.921875, 'ramp': 13, 'draw': 10, 'interaction': 3}\n",
      "c:\\Users\\theod\\edh-llm\\data\\decks\\gpt\\TormodtheDesecrator.txt\n"
     ]
    },
    {
     "name": "stderr",
     "output_type": "stream",
     "text": [
      " 92%|█████████▏| 173/189 [3:07:59<03:57, 14.85s/it]"
     ]
    },
    {
     "name": "stdout",
     "output_type": "stream",
     "text": [
      "{'overall': 5.716666666666667, 'cmc': 3.0, 'ramp': 11, 'draw': 7, 'interaction': 11}\n",
      "c:\\Users\\theod\\edh-llm\\data\\decks\\gpt\\TorstenFounderofBenalia.txt\n"
     ]
    },
    {
     "name": "stderr",
     "output_type": "stream",
     "text": [
      " 92%|█████████▏| 174/189 [3:08:14<03:41, 14.78s/it]"
     ]
    },
    {
     "name": "stdout",
     "output_type": "stream",
     "text": [
      "{'overall': 10.879185520361991, 'cmc': 3.453125, 'ramp': 18, 'draw': 22, 'interaction': 6}\n",
      "c:\\Users\\theod\\edh-llm\\data\\decks\\gpt\\TorWaukitheYounger.txt\n"
     ]
    },
    {
     "name": "stderr",
     "output_type": "stream",
     "text": [
      " 93%|█████████▎| 175/189 [3:08:29<03:30, 15.01s/it]"
     ]
    },
    {
     "name": "stdout",
     "output_type": "stream",
     "text": [
      "{'overall': 4.192372881355932, 'cmc': 3.6875, 'ramp': 4, 'draw': 5, 'interaction': 28}\n",
      "c:\\Users\\theod\\edh-llm\\data\\decks\\gpt\\TreebeardGraciousHost.txt\n"
     ]
    },
    {
     "name": "stderr",
     "output_type": "stream",
     "text": [
      " 93%|█████████▎| 176/189 [3:08:44<03:13, 14.87s/it]"
     ]
    },
    {
     "name": "stdout",
     "output_type": "stream",
     "text": [
      "{'overall': 6.342307692307692, 'cmc': 4.0625, 'ramp': 10, 'draw': 12, 'interaction': 7}\n",
      "c:\\Users\\theod\\edh-llm\\data\\decks\\gpt\\Tromokratis.txt\n"
     ]
    },
    {
     "name": "stderr",
     "output_type": "stream",
     "text": [
      " 94%|█████████▎| 177/189 [3:09:00<03:04, 15.34s/it]"
     ]
    },
    {
     "name": "stdout",
     "output_type": "stream",
     "text": [
      "{'overall': 5.751724137931035, 'cmc': 3.625, 'ramp': 5, 'draw': 14, 'interaction': 9}\n",
      "c:\\Users\\theod\\edh-llm\\data\\decks\\gpt\\TuknirDeathlock.txt\n"
     ]
    },
    {
     "name": "stderr",
     "output_type": "stream",
     "text": [
      " 94%|█████████▍| 178/189 [3:09:15<02:46, 15.11s/it]"
     ]
    },
    {
     "name": "stdout",
     "output_type": "stream",
     "text": [
      "{'overall': 4.841176470588235, 'cmc': 2.6984126984126986, 'ramp': 9, 'draw': 6, 'interaction': 7}\n",
      "c:\\Users\\theod\\edh-llm\\data\\decks\\gpt\\UrabraskHereticPraetor.txt\n"
     ]
    },
    {
     "name": "stderr",
     "output_type": "stream",
     "text": [
      " 95%|█████████▍| 179/189 [3:09:30<02:30, 15.09s/it]"
     ]
    },
    {
     "name": "stdout",
     "output_type": "stream",
     "text": [
      "{'overall': 8.496464646464647, 'cmc': 3.09375, 'ramp': 14, 'draw': 16, 'interaction': 7}\n",
      "c:\\Users\\theod\\edh-llm\\data\\decks\\gpt\\UrzaPrinceofKroog.txt\n"
     ]
    },
    {
     "name": "stderr",
     "output_type": "stream",
     "text": [
      " 95%|█████████▌| 180/189 [3:09:44<02:14, 14.92s/it]"
     ]
    },
    {
     "name": "stdout",
     "output_type": "stream",
     "text": [
      "{'overall': 4.747826086956522, 'cmc': 3.6507936507936507, 'ramp': 5, 'draw': 10, 'interaction': 9}\n",
      "c:\\Users\\theod\\edh-llm\\data\\decks\\gpt\\UyoSilentProphet.txt\n"
     ]
    },
    {
     "name": "stderr",
     "output_type": "stream",
     "text": [
      " 96%|█████████▌| 181/189 [3:09:59<01:58, 14.79s/it]"
     ]
    },
    {
     "name": "stdout",
     "output_type": "stream",
     "text": [
      "{'overall': 6.138549618320611, 'cmc': 4.09375, 'ramp': 3, 'draw': 18, 'interaction': 8}\n",
      "c:\\Users\\theod\\edh-llm\\data\\decks\\gpt\\VisaratheDreadful.txt\n"
     ]
    },
    {
     "name": "stderr",
     "output_type": "stream",
     "text": [
      " 96%|█████████▋| 182/189 [3:10:14<01:43, 14.81s/it]"
     ]
    },
    {
     "name": "stdout",
     "output_type": "stream",
     "text": [
      "{'overall': 4.413212435233161, 'cmc': 3.015625, 'ramp': 9, 'draw': 3, 'interaction': 15}\n",
      "c:\\Users\\theod\\edh-llm\\data\\decks\\gpt\\WasitoraNekoruQueen.txt\n"
     ]
    },
    {
     "name": "stderr",
     "output_type": "stream",
     "text": [
      " 97%|█████████▋| 183/189 [3:10:28<01:28, 14.69s/it]"
     ]
    },
    {
     "name": "stdout",
     "output_type": "stream",
     "text": [
      "{'overall': 3.9245901639344263, 'cmc': 3.8125, 'ramp': 7, 'draw': 4, 'interaction': 13}\n",
      "c:\\Users\\theod\\edh-llm\\data\\decks\\gpt\\WernogRidersChaplain.txt\n"
     ]
    },
    {
     "name": "stderr",
     "output_type": "stream",
     "text": [
      " 97%|█████████▋| 184/189 [3:10:43<01:14, 14.89s/it]"
     ]
    },
    {
     "name": "stdout",
     "output_type": "stream",
     "text": [
      "{'overall': 4.916371681415929, 'cmc': 3.53125, 'ramp': 4, 'draw': 11, 'interaction': 12}\n",
      "c:\\Users\\theod\\edh-llm\\data\\decks\\gpt\\XunYuWeiAdvisor.txt\n"
     ]
    },
    {
     "name": "stderr",
     "output_type": "stream",
     "text": [
      " 98%|█████████▊| 185/189 [3:10:58<00:59, 14.79s/it]"
     ]
    },
    {
     "name": "stdout",
     "output_type": "stream",
     "text": [
      "{'overall': 3.4176470588235297, 'cmc': 3.238095238095238, 'ramp': 5, 'draw': 4, 'interaction': 11}\n",
      "c:\\Users\\theod\\edh-llm\\data\\decks\\gpt\\YaroktheDesecrated.txt\n"
     ]
    },
    {
     "name": "stderr",
     "output_type": "stream",
     "text": [
      " 98%|█████████▊| 186/189 [3:11:13<00:44, 14.79s/it]"
     ]
    },
    {
     "name": "stdout",
     "output_type": "stream",
     "text": [
      "{'overall': 5.668888888888889, 'cmc': 3.515625, 'ramp': 7, 'draw': 11, 'interaction': 12}\n",
      "c:\\Users\\theod\\edh-llm\\data\\decks\\gpt\\YoshimaruEverFaithful.txt\n"
     ]
    },
    {
     "name": "stderr",
     "output_type": "stream",
     "text": [
      " 99%|█████████▉| 187/189 [3:11:27<00:29, 14.70s/it]"
     ]
    },
    {
     "name": "stdout",
     "output_type": "stream",
     "text": [
      "{'overall': 6.29, 'cmc': 3.125, 'ramp': 11, 'draw': 10, 'interaction': 8}\n",
      "c:\\Users\\theod\\edh-llm\\data\\decks\\gpt\\ZhangHeWeiGeneral.txt\n"
     ]
    },
    {
     "name": "stderr",
     "output_type": "stream",
     "text": [
      " 99%|█████████▉| 188/189 [3:11:42<00:14, 14.64s/it]"
     ]
    },
    {
     "name": "stdout",
     "output_type": "stream",
     "text": [
      "{'overall': 3.0953488372093023, 'cmc': 3.359375, 'ramp': 5, 'draw': 3, 'interaction': 10}\n",
      "c:\\Users\\theod\\edh-llm\\data\\decks\\gpt\\ZiatoratheIncinerator.txt\n"
     ]
    },
    {
     "name": "stderr",
     "output_type": "stream",
     "text": [
      "100%|██████████| 189/189 [3:11:57<00:00, 60.94s/it]"
     ]
    },
    {
     "name": "stdout",
     "output_type": "stream",
     "text": [
      "{'overall': 6.7384615384615385, 'cmc': 3.7142857142857144, 'ramp': 10, 'draw': 12, 'interaction': 14}\n"
     ]
    },
    {
     "name": "stderr",
     "output_type": "stream",
     "text": [
      "\n"
     ]
    }
   ],
   "source": [
    "compile_power(DECKS)"
   ]
  },
  {
   "cell_type": "code",
   "execution_count": null,
   "metadata": {},
   "outputs": [],
   "source": []
  }
 ],
 "metadata": {
  "kernelspec": {
   "display_name": "DSC180",
   "language": "python",
   "name": "python3"
  },
  "language_info": {
   "codemirror_mode": {
    "name": "ipython",
    "version": 3
   },
   "file_extension": ".py",
   "mimetype": "text/x-python",
   "name": "python",
   "nbconvert_exporter": "python",
   "pygments_lexer": "ipython3",
   "version": "3.11.5"
  }
 },
 "nbformat": 4,
 "nbformat_minor": 2
}
