{
 "cells": [
  {
   "cell_type": "code",
   "execution_count": 5,
   "metadata": {},
   "outputs": [],
   "source": [
    "from power_calculator import calculate_power\n",
    "import os\n",
    "import pandas as pd\n",
    "import pickle\n",
    "from scrape_cardlists import DATA_PATH\n",
    "BASE_PATH = os.path.join(DATA_PATH, \"decks\", \"baseline.pkl\")\n",
    "BASE_PWR_PATH = os.path.join(DATA_PATH, \"decks\", \"baseline\")\n",
    "MANUAL_PATH = os.path.join(DATA_PATH, \"decks\", \"manual.pkl\")\n",
    "MANUAL_SAVE = os.path.join(DATA_PATH, \"decks\", \"manual_rand\")"
   ]
  },
  {
   "cell_type": "code",
   "execution_count": 2,
   "metadata": {},
   "outputs": [],
   "source": [
    "def load_data(fp):\n",
    "    with open(fp, \"rb\") as f:\n",
    "        data = pickle.load(f)\n",
    "    return data"
   ]
  },
  {
   "cell_type": "code",
   "execution_count": 7,
   "metadata": {},
   "outputs": [],
   "source": [
    "manual = load_data(MANUAL_PATH)"
   ]
  },
  {
   "cell_type": "code",
   "execution_count": null,
   "metadata": {},
   "outputs": [],
   "source": [
    "for col in manual:\n",
    "        cmdr_f = \"\".join(x for x in col if x.isalnum()) + \".txt\"        \n",
    "        with open(os.path.join(MANUAL_SAVE, cmdr_f), \"w\") as f:\n",
    "            f.write(f\"1 {col}\\n\")\n",
    "            for row in manual[col].sample(68):\n",
    "                f.write(f\"1 {row}\\n\")\n",
    "        with open(os.path.join(MANUAL_SAVE, cmdr_f), \"a\") as f:\n",
    "            f.write(str(calculate_power(os.path.join(MANUAL_SAVE, cmdr_f))))"
   ]
  }
 ],
 "metadata": {
  "kernelspec": {
   "display_name": "DSC180",
   "language": "python",
   "name": "python3"
  },
  "language_info": {
   "codemirror_mode": {
    "name": "ipython",
    "version": 3
   },
   "file_extension": ".py",
   "mimetype": "text/x-python",
   "name": "python",
   "nbconvert_exporter": "python",
   "pygments_lexer": "ipython3",
   "version": "3.11.5"
  }
 },
 "nbformat": 4,
 "nbformat_minor": 2
}
