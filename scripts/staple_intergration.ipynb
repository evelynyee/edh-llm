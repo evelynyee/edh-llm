{
 "cells": [
  {
   "cell_type": "code",
   "execution_count": 1,
   "metadata": {},
   "outputs": [],
   "source": [
    "from sklearn.metrics.pairwise import cosine_similarity\n",
    "import os\n",
    "\n",
    "def manual(card_texts, commander_texts, model, results_base_all):\n",
    "    results_manual_all = {}\n",
    "    results_manual_keywords_all = {}\n",
    "    staples = {}\n",
    "    with open(os.path.abspath('../data/staples.txt'), 'r') as staples:\n",
    "        staple_pool = [s.rstrip() for s in staples.readlines()]\n",
    "    for idx, row in commander_texts.iterrows():\n",
    "        scores_all = []\n",
    "        scores_keywords = []\n",
    "        staples[row['name']] = []\n",
    "        for card_idx, card_row in card_texts.iterrows():\n",
    "            # null-color cards can go into any deck\n",
    "            # null-color commanders can only take null-color cards\n",
    "            if (not isinstance(card_row[\"color\"], list)) or ((isinstance(row[\"color\"], list)) and (all([x in row[\"color\"] for x in card_row[\"color\"]]))):\n",
    "                # TODO add more manual features\n",
    "                commander_embedding = [[row[\"textLength\"]]]\n",
    "                card_embedding = [[card_row[\"textLength\"]]]\n",
    "                scores_all.append((cosine_similarity(commander_embedding, card_embedding)[0][0], card_row[\"name\"]))\n",
    "                # checks for presence of any keywords\n",
    "                if isinstance(row[\"keyword_list\"], list) and isinstance(card_row[\"keyword_list\"], list):\n",
    "                    scores_keywords.append((model.wv.n_similarity(row[\"keyword_list\"], card_row[\"keyword_list\"]), card_row[\"name\"]))\n",
    "                else:\n",
    "                    scores_keywords.append((0, card_row[\"name\"]))\n",
    "                    if card_row['name'] in staple_pool:\n",
    "                        staples[row['name']].append(card_row['name'])\n",
    "        results_manual_all[row[\"name\"]] = [x[1] for x in sorted(scores_all)[::-1]]\n",
    "        results_manual_keywords_all[row[\"name\"]] = [x[1] for x in sorted(scores_keywords)[::-1]]\n",
    "    \n",
    "    # aggregates baseline and manual\n",
    "    results_manual = {}\n",
    "    for key, vals in results_base_all.items():\n",
    "        results_index = []\n",
    "        for val in vals:\n",
    "            a = results_base_all[key].index(val)\n",
    "            b = results_manual_all[key].index(val)\n",
    "            c = results_manual_keywords_all[key].index(val)\n",
    "            index_sum = results_base_all[key].index(val) + results_manual_all[key].index(val) + results_manual_keywords_all[key].index(val)\n",
    "            results_index.append((index_sum, val))\n",
    "        results_manual[key] = [x[1] for x in sorted(results_index)[:500]] + staples[key]\n",
    "    \n",
    "    return results_manual\n"
   ]
  },
  {
   "cell_type": "code",
   "execution_count": 7,
   "metadata": {},
   "outputs": [],
   "source": [
    "import os\n",
    "with open(os.path.abspath('../data/staples.txt'), 'r') as staples:\n",
    "    staple_pool = [s.rstrip() for s in staples.readlines()]"
   ]
  },
  {
   "cell_type": "code",
   "execution_count": 8,
   "metadata": {},
   "outputs": [
    {
     "data": {
      "text/plain": [
       "True"
      ]
     },
     "execution_count": 8,
     "metadata": {},
     "output_type": "execute_result"
    }
   ],
   "source": [
    "'Sol Ring' in staple_pool"
   ]
  },
  {
   "cell_type": "code",
   "execution_count": 9,
   "metadata": {},
   "outputs": [],
   "source": []
  },
  {
   "cell_type": "code",
   "execution_count": null,
   "metadata": {},
   "outputs": [],
   "source": []
  }
 ],
 "metadata": {
  "kernelspec": {
   "display_name": "DSC180",
   "language": "python",
   "name": "python3"
  },
  "language_info": {
   "codemirror_mode": {
    "name": "ipython",
    "version": 3
   },
   "file_extension": ".py",
   "mimetype": "text/x-python",
   "name": "python",
   "nbconvert_exporter": "python",
   "pygments_lexer": "ipython3",
   "version": "3.11.5"
  }
 },
 "nbformat": 4,
 "nbformat_minor": 2
}
