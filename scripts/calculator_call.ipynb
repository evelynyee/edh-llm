{
 "cells": [
  {
   "cell_type": "code",
   "execution_count": 1,
   "metadata": {},
   "outputs": [
    {
     "name": "stdout",
     "output_type": "stream",
     "text": [
      "12.87\n"
     ]
    }
   ],
   "source": [
    "import time\n",
    "import re\n",
    "import os\n",
    "from selenium import webdriver\n",
    "from selenium.webdriver.common.keys import Keys\n",
    "from selenium.webdriver.common.by import By\n",
    "from selenium.webdriver.support.ui import WebDriverWait\n",
    "from selenium.webdriver.support import expected_conditions as EC\n",
    "from selenium.webdriver.chrome.options import Options\n",
    "\n",
    "# Path to your webdriver\n",
    "PATH = os.path.abspath(\"chromedriver.exe\")\n",
    "\n",
    "\n",
    "# Initialize the WebDriver\n",
    "chrome_options = Options()\n",
    "chrome_options.add_argument(\"--headless\")\n",
    "driver = webdriver.Chrome(options=chrome_options)\n",
    "\n",
    "# Open the website\n",
    "driver.get(\"https://edhpowercalculator.com/\")\n",
    "\n",
    "try:\n",
    "    # Wait for the decklist upload element to be available\n",
    "    button = WebDriverWait(driver, 10).until(\n",
    "        EC.element_to_be_clickable((By.XPATH, \"//button[contains(text(), 'Do you have a decklist to upload?')]\"))\n",
    "    )\n",
    "    button.click()\n",
    "\n",
    "    file_input = driver.find_element(By.ID, 'list-upload')\n",
    "\n",
    "    # Send the file path to the input element\n",
    "    #file_input.send_keys('C:/Users/theod/edh-llm/data/test_deck.txt')\n",
    "    file_input.send_keys(os.path.abspath(\"../data/test_deck.txt\"))\n",
    "    #print('sent file!')\n",
    "    button = WebDriverWait(driver, 10).until(\n",
    "        EC.element_to_be_clickable((By.XPATH, \"//button[contains(text(), 'Import')]\"))\n",
    "    )\n",
    "    button.click()\n",
    "\n",
    "    # necessary to wait for site to generate power level\n",
    "    time.sleep(30)\n",
    "\n",
    "    # Pull raw html and read strength tag\n",
    "    html_source = driver.page_source\n",
    "    pattern = r\"<strong>(.*?)</strong>\"\n",
    "\n",
    "    # Searching for the pattern in the HTML content\n",
    "    matches = re.findall(pattern, html_source, re.DOTALL)\n",
    "    print(matches[1])\n",
    "finally:\n",
    "    # Close the browser after a delay or after certain actions\n",
    "    driver.quit()"
   ]
  },
  {
   "cell_type": "code",
   "execution_count": null,
   "metadata": {},
   "outputs": [],
   "source": []
  }
 ],
 "metadata": {
  "kernelspec": {
   "display_name": "DSC180",
   "language": "python",
   "name": "python3"
  },
  "language_info": {
   "codemirror_mode": {
    "name": "ipython",
    "version": 3
   },
   "file_extension": ".py",
   "mimetype": "text/x-python",
   "name": "python",
   "nbconvert_exporter": "python",
   "pygments_lexer": "ipython3",
   "version": "3.11.5"
  }
 },
 "nbformat": 4,
 "nbformat_minor": 2
}
